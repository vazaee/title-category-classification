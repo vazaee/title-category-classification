{
  "nbformat": 4,
  "nbformat_minor": 0,
  "metadata": {
    "colab": {
      "provenance": []
    },
    "kernelspec": {
      "name": "python3",
      "display_name": "Python 3"
    },
    "language_info": {
      "name": "python"
    }
  },
  "cells": [
    {
      "cell_type": "code",
      "execution_count": 1,
      "metadata": {
        "colab": {
          "base_uri": "https://localhost:8080/"
        },
        "id": "65ZF5iRPDICv",
        "outputId": "8b1c983e-5766-4a81-bf84-3d4b7162d42d"
      },
      "outputs": [
        {
          "output_type": "stream",
          "name": "stderr",
          "text": [
            "/usr/local/lib/python3.8/dist-packages/torch/cuda/__init__.py:497: UserWarning: Can't initialize NVML\n",
            "  warnings.warn(\"Can't initialize NVML\")\n"
          ]
        }
      ],
      "source": [
        "import pandas as pd\n",
        "import spacy"
      ]
    },
    {
      "cell_type": "code",
      "source": [
        "train_data = pd.read_csv(\"/content/drive/MyDrive/dataset/word2vec/dataset/treino.csv\")\n",
        "train_data.sample(5)"
      ],
      "metadata": {
        "colab": {
          "base_uri": "https://localhost:8080/",
          "height": 206
        },
        "id": "uJTrJAQ5KD90",
        "outputId": "cbf722cc-508f-42f9-de10-7f386d97ff20"
      },
      "execution_count": 2,
      "outputs": [
        {
          "output_type": "execute_result",
          "data": {
            "text/plain": [
              "                                                   title  \\\n",
              "42130  Crítica: Impossível passar indiferente por um ...   \n",
              "17303  Em editoriais, imprensa estrangeira critica si...   \n",
              "29201  Divulgação de e-mails revela a ironia e a falt...   \n",
              "46617  Mostra de Sganzerla resgata 'Copacabana Mon Am...   \n",
              "59778  Diferente de negros, violência policial contra...   \n",
              "\n",
              "                                                    text        date  \\\n",
              "42130  Não adianta procurar clemência nos olhos de Ma...  2015-01-30   \n",
              "17303  O processo de impeachment que afastou Dilma Ro...  2016-05-13   \n",
              "29201  Nos bastidores revelados por centenas de e-mai...  2015-02-07   \n",
              "46617  \"O Terceiro Mundo vai explodir. Quem tiver sap...  2015-08-01   \n",
              "59778  Os policiais chegaram à casa em San Antonio, n...  2016-08-17   \n",
              "\n",
              "        category subcategory  \\\n",
              "42130  ilustrada         NaN   \n",
              "17303      mundo         NaN   \n",
              "29201      mundo         NaN   \n",
              "46617  ilustrada         NaN   \n",
              "59778      mundo         NaN   \n",
              "\n",
              "                                                    link  \n",
              "42130  http://www1.folha.uol.com.br/ilustrada/2015/01...  \n",
              "17303  http://www1.folha.uol.com.br/mundo/2016/05/177...  \n",
              "29201  http://www1.folha.uol.com.br/mundo/2015/07/165...  \n",
              "46617  http://www1.folha.uol.com.br/ilustrada/2015/01...  \n",
              "59778  http://www1.folha.uol.com.br/mundo/2016/08/180...  "
            ],
            "text/html": [
              "\n",
              "  <div id=\"df-634f7a4d-1932-42e7-9e7f-2990d59bf168\">\n",
              "    <div class=\"colab-df-container\">\n",
              "      <div>\n",
              "<style scoped>\n",
              "    .dataframe tbody tr th:only-of-type {\n",
              "        vertical-align: middle;\n",
              "    }\n",
              "\n",
              "    .dataframe tbody tr th {\n",
              "        vertical-align: top;\n",
              "    }\n",
              "\n",
              "    .dataframe thead th {\n",
              "        text-align: right;\n",
              "    }\n",
              "</style>\n",
              "<table border=\"1\" class=\"dataframe\">\n",
              "  <thead>\n",
              "    <tr style=\"text-align: right;\">\n",
              "      <th></th>\n",
              "      <th>title</th>\n",
              "      <th>text</th>\n",
              "      <th>date</th>\n",
              "      <th>category</th>\n",
              "      <th>subcategory</th>\n",
              "      <th>link</th>\n",
              "    </tr>\n",
              "  </thead>\n",
              "  <tbody>\n",
              "    <tr>\n",
              "      <th>42130</th>\n",
              "      <td>Crítica: Impossível passar indiferente por um ...</td>\n",
              "      <td>Não adianta procurar clemência nos olhos de Ma...</td>\n",
              "      <td>2015-01-30</td>\n",
              "      <td>ilustrada</td>\n",
              "      <td>NaN</td>\n",
              "      <td>http://www1.folha.uol.com.br/ilustrada/2015/01...</td>\n",
              "    </tr>\n",
              "    <tr>\n",
              "      <th>17303</th>\n",
              "      <td>Em editoriais, imprensa estrangeira critica si...</td>\n",
              "      <td>O processo de impeachment que afastou Dilma Ro...</td>\n",
              "      <td>2016-05-13</td>\n",
              "      <td>mundo</td>\n",
              "      <td>NaN</td>\n",
              "      <td>http://www1.folha.uol.com.br/mundo/2016/05/177...</td>\n",
              "    </tr>\n",
              "    <tr>\n",
              "      <th>29201</th>\n",
              "      <td>Divulgação de e-mails revela a ironia e a falt...</td>\n",
              "      <td>Nos bastidores revelados por centenas de e-mai...</td>\n",
              "      <td>2015-02-07</td>\n",
              "      <td>mundo</td>\n",
              "      <td>NaN</td>\n",
              "      <td>http://www1.folha.uol.com.br/mundo/2015/07/165...</td>\n",
              "    </tr>\n",
              "    <tr>\n",
              "      <th>46617</th>\n",
              "      <td>Mostra de Sganzerla resgata 'Copacabana Mon Am...</td>\n",
              "      <td>\"O Terceiro Mundo vai explodir. Quem tiver sap...</td>\n",
              "      <td>2015-08-01</td>\n",
              "      <td>ilustrada</td>\n",
              "      <td>NaN</td>\n",
              "      <td>http://www1.folha.uol.com.br/ilustrada/2015/01...</td>\n",
              "    </tr>\n",
              "    <tr>\n",
              "      <th>59778</th>\n",
              "      <td>Diferente de negros, violência policial contra...</td>\n",
              "      <td>Os policiais chegaram à casa em San Antonio, n...</td>\n",
              "      <td>2016-08-17</td>\n",
              "      <td>mundo</td>\n",
              "      <td>NaN</td>\n",
              "      <td>http://www1.folha.uol.com.br/mundo/2016/08/180...</td>\n",
              "    </tr>\n",
              "  </tbody>\n",
              "</table>\n",
              "</div>\n",
              "      <button class=\"colab-df-convert\" onclick=\"convertToInteractive('df-634f7a4d-1932-42e7-9e7f-2990d59bf168')\"\n",
              "              title=\"Convert this dataframe to an interactive table.\"\n",
              "              style=\"display:none;\">\n",
              "        \n",
              "  <svg xmlns=\"http://www.w3.org/2000/svg\" height=\"24px\"viewBox=\"0 0 24 24\"\n",
              "       width=\"24px\">\n",
              "    <path d=\"M0 0h24v24H0V0z\" fill=\"none\"/>\n",
              "    <path d=\"M18.56 5.44l.94 2.06.94-2.06 2.06-.94-2.06-.94-.94-2.06-.94 2.06-2.06.94zm-11 1L8.5 8.5l.94-2.06 2.06-.94-2.06-.94L8.5 2.5l-.94 2.06-2.06.94zm10 10l.94 2.06.94-2.06 2.06-.94-2.06-.94-.94-2.06-.94 2.06-2.06.94z\"/><path d=\"M17.41 7.96l-1.37-1.37c-.4-.4-.92-.59-1.43-.59-.52 0-1.04.2-1.43.59L10.3 9.45l-7.72 7.72c-.78.78-.78 2.05 0 2.83L4 21.41c.39.39.9.59 1.41.59.51 0 1.02-.2 1.41-.59l7.78-7.78 2.81-2.81c.8-.78.8-2.07 0-2.86zM5.41 20L4 18.59l7.72-7.72 1.47 1.35L5.41 20z\"/>\n",
              "  </svg>\n",
              "      </button>\n",
              "      \n",
              "  <style>\n",
              "    .colab-df-container {\n",
              "      display:flex;\n",
              "      flex-wrap:wrap;\n",
              "      gap: 12px;\n",
              "    }\n",
              "\n",
              "    .colab-df-convert {\n",
              "      background-color: #E8F0FE;\n",
              "      border: none;\n",
              "      border-radius: 50%;\n",
              "      cursor: pointer;\n",
              "      display: none;\n",
              "      fill: #1967D2;\n",
              "      height: 32px;\n",
              "      padding: 0 0 0 0;\n",
              "      width: 32px;\n",
              "    }\n",
              "\n",
              "    .colab-df-convert:hover {\n",
              "      background-color: #E2EBFA;\n",
              "      box-shadow: 0px 1px 2px rgba(60, 64, 67, 0.3), 0px 1px 3px 1px rgba(60, 64, 67, 0.15);\n",
              "      fill: #174EA6;\n",
              "    }\n",
              "\n",
              "    [theme=dark] .colab-df-convert {\n",
              "      background-color: #3B4455;\n",
              "      fill: #D2E3FC;\n",
              "    }\n",
              "\n",
              "    [theme=dark] .colab-df-convert:hover {\n",
              "      background-color: #434B5C;\n",
              "      box-shadow: 0px 1px 3px 1px rgba(0, 0, 0, 0.15);\n",
              "      filter: drop-shadow(0px 1px 2px rgba(0, 0, 0, 0.3));\n",
              "      fill: #FFFFFF;\n",
              "    }\n",
              "  </style>\n",
              "\n",
              "      <script>\n",
              "        const buttonEl =\n",
              "          document.querySelector('#df-634f7a4d-1932-42e7-9e7f-2990d59bf168 button.colab-df-convert');\n",
              "        buttonEl.style.display =\n",
              "          google.colab.kernel.accessAllowed ? 'block' : 'none';\n",
              "\n",
              "        async function convertToInteractive(key) {\n",
              "          const element = document.querySelector('#df-634f7a4d-1932-42e7-9e7f-2990d59bf168');\n",
              "          const dataTable =\n",
              "            await google.colab.kernel.invokeFunction('convertToInteractive',\n",
              "                                                     [key], {});\n",
              "          if (!dataTable) return;\n",
              "\n",
              "          const docLinkHtml = 'Like what you see? Visit the ' +\n",
              "            '<a target=\"_blank\" href=https://colab.research.google.com/notebooks/data_table.ipynb>data table notebook</a>'\n",
              "            + ' to learn more about interactive tables.';\n",
              "          element.innerHTML = '';\n",
              "          dataTable['output_type'] = 'display_data';\n",
              "          await google.colab.output.renderOutput(dataTable, element);\n",
              "          const docLink = document.createElement('div');\n",
              "          docLink.innerHTML = docLinkHtml;\n",
              "          element.appendChild(docLink);\n",
              "        }\n",
              "      </script>\n",
              "    </div>\n",
              "  </div>\n",
              "  "
            ]
          },
          "metadata": {},
          "execution_count": 2
        }
      ]
    },
    {
      "cell_type": "code",
      "source": [
        "#execute just once\n",
        "#!python -m spacy download pt_core_news_sm"
      ],
      "metadata": {
        "id": "cOXvU8LWKXrl"
      },
      "execution_count": null,
      "outputs": []
    },
    {
      "cell_type": "code",
      "source": [
        "nlp = spacy.load(\"pt_core_news_sm\")"
      ],
      "metadata": {
        "id": "F4IK8wdxKrVp"
      },
      "execution_count": 4,
      "outputs": []
    },
    {
      "cell_type": "code",
      "source": [
        "text = \"Rio de Janeiro é uma cidade maravilhosa\"\n",
        "doc = nlp(text)\n",
        "doc"
      ],
      "metadata": {
        "colab": {
          "base_uri": "https://localhost:8080/"
        },
        "id": "LE9TNoUWKsX6",
        "outputId": "f7d0b83f-b92b-4fde-808e-680c80071447"
      },
      "execution_count": 6,
      "outputs": [
        {
          "output_type": "execute_result",
          "data": {
            "text/plain": [
              "Rio de Janeiro é uma cidade maravilhosa"
            ]
          },
          "metadata": {},
          "execution_count": 6
        }
      ]
    },
    {
      "cell_type": "code",
      "source": [
        "type(doc[2])"
      ],
      "metadata": {
        "colab": {
          "base_uri": "https://localhost:8080/"
        },
        "id": "3b_RwpiLKwd4",
        "outputId": "7f71e565-35ab-4770-faf0-9ca1b3a49cbb"
      },
      "execution_count": 7,
      "outputs": [
        {
          "output_type": "execute_result",
          "data": {
            "text/plain": [
              "spacy.tokens.token.Token"
            ]
          },
          "metadata": {},
          "execution_count": 7
        }
      ]
    }
  ]
}