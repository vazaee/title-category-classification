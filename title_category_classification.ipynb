{
  "nbformat": 4,
  "nbformat_minor": 0,
  "metadata": {
    "colab": {
      "provenance": []
    },
    "kernelspec": {
      "name": "python3",
      "display_name": "Python 3"
    },
    "language_info": {
      "name": "python"
    }
  },
  "cells": [
    {
      "cell_type": "code",
      "execution_count": 1,
      "metadata": {
        "colab": {
          "base_uri": "https://localhost:8080/"
        },
        "id": "65ZF5iRPDICv",
        "outputId": "cf8c3e4c-f41f-45a6-8a40-b861401b1cf3"
      },
      "outputs": [
        {
          "output_type": "stream",
          "name": "stderr",
          "text": [
            "/usr/local/lib/python3.8/dist-packages/torch/cuda/__init__.py:497: UserWarning: Can't initialize NVML\n",
            "  warnings.warn(\"Can't initialize NVML\")\n"
          ]
        }
      ],
      "source": [
        "import pandas as pd\n",
        "import spacy"
      ]
    },
    {
      "cell_type": "code",
      "source": [
        "train_data = pd.read_csv(\"/content/drive/MyDrive/dataset/word2vec/dataset/treino.csv\")\n",
        "train_data.sample(5)"
      ],
      "metadata": {
        "colab": {
          "base_uri": "https://localhost:8080/",
          "height": 206
        },
        "id": "uJTrJAQ5KD90",
        "outputId": "fe0152ec-7c4d-42ac-b95b-f0482799b116"
      },
      "execution_count": 2,
      "outputs": [
        {
          "output_type": "execute_result",
          "data": {
            "text/plain": [
              "                                                   title  \\\n",
              "7591   Mega-Sena acumula e deve pagar prêmio de R$ 39...   \n",
              "41154  'Eles só vão parar se forem mortos', diz em SP...   \n",
              "1998   Nova peça de Jô Soares é farsa surreal que que...   \n",
              "17827  Cunha devolve pedido de impeachment para Bicud...   \n",
              "84392  Ministério do Esporte exonera executivo que tr...   \n",
              "\n",
              "                                                    text        date  \\\n",
              "7591   Sem vencedores, a Mega-Sena acumulou e deve pa...  2015-10-31   \n",
              "41154  Sobrevivente do atentado ao \"Charlie Hebdo\", L...  2015-03-07   \n",
              "1998   \"Histeria\" é uma farsa na vertente inglesa rec...  2016-05-27   \n",
              "17827  O presidente da Câmara dos Deputados, Eduardo ...  2015-09-14   \n",
              "84392  O secretário-executivo do Ministério do Esport...  2015-11-17   \n",
              "\n",
              "        category    subcategory  \\\n",
              "7591   cotidiano            NaN   \n",
              "41154    colunas  monicabergamo   \n",
              "1998   ilustrada            NaN   \n",
              "17827    colunas  monicabergamo   \n",
              "84392    esporte            NaN   \n",
              "\n",
              "                                                    link  \n",
              "7591   http://www1.folha.uol.com.br/cotidiano/2015/10...  \n",
              "41154  http://www1.folha.uol.com.br/colunas/monicaber...  \n",
              "1998   http://www1.folha.uol.com.br/ilustrada/2016/05...  \n",
              "17827  http://www1.folha.uol.com.br/colunas/monicaber...  \n",
              "84392  http://www1.folha.uol.com.br/esporte/2015/11/1...  "
            ],
            "text/html": [
              "\n",
              "  <div id=\"df-720a2879-63e8-41c0-a729-0483c1416141\">\n",
              "    <div class=\"colab-df-container\">\n",
              "      <div>\n",
              "<style scoped>\n",
              "    .dataframe tbody tr th:only-of-type {\n",
              "        vertical-align: middle;\n",
              "    }\n",
              "\n",
              "    .dataframe tbody tr th {\n",
              "        vertical-align: top;\n",
              "    }\n",
              "\n",
              "    .dataframe thead th {\n",
              "        text-align: right;\n",
              "    }\n",
              "</style>\n",
              "<table border=\"1\" class=\"dataframe\">\n",
              "  <thead>\n",
              "    <tr style=\"text-align: right;\">\n",
              "      <th></th>\n",
              "      <th>title</th>\n",
              "      <th>text</th>\n",
              "      <th>date</th>\n",
              "      <th>category</th>\n",
              "      <th>subcategory</th>\n",
              "      <th>link</th>\n",
              "    </tr>\n",
              "  </thead>\n",
              "  <tbody>\n",
              "    <tr>\n",
              "      <th>7591</th>\n",
              "      <td>Mega-Sena acumula e deve pagar prêmio de R$ 39...</td>\n",
              "      <td>Sem vencedores, a Mega-Sena acumulou e deve pa...</td>\n",
              "      <td>2015-10-31</td>\n",
              "      <td>cotidiano</td>\n",
              "      <td>NaN</td>\n",
              "      <td>http://www1.folha.uol.com.br/cotidiano/2015/10...</td>\n",
              "    </tr>\n",
              "    <tr>\n",
              "      <th>41154</th>\n",
              "      <td>'Eles só vão parar se forem mortos', diz em SP...</td>\n",
              "      <td>Sobrevivente do atentado ao \"Charlie Hebdo\", L...</td>\n",
              "      <td>2015-03-07</td>\n",
              "      <td>colunas</td>\n",
              "      <td>monicabergamo</td>\n",
              "      <td>http://www1.folha.uol.com.br/colunas/monicaber...</td>\n",
              "    </tr>\n",
              "    <tr>\n",
              "      <th>1998</th>\n",
              "      <td>Nova peça de Jô Soares é farsa surreal que que...</td>\n",
              "      <td>\"Histeria\" é uma farsa na vertente inglesa rec...</td>\n",
              "      <td>2016-05-27</td>\n",
              "      <td>ilustrada</td>\n",
              "      <td>NaN</td>\n",
              "      <td>http://www1.folha.uol.com.br/ilustrada/2016/05...</td>\n",
              "    </tr>\n",
              "    <tr>\n",
              "      <th>17827</th>\n",
              "      <td>Cunha devolve pedido de impeachment para Bicud...</td>\n",
              "      <td>O presidente da Câmara dos Deputados, Eduardo ...</td>\n",
              "      <td>2015-09-14</td>\n",
              "      <td>colunas</td>\n",
              "      <td>monicabergamo</td>\n",
              "      <td>http://www1.folha.uol.com.br/colunas/monicaber...</td>\n",
              "    </tr>\n",
              "    <tr>\n",
              "      <th>84392</th>\n",
              "      <td>Ministério do Esporte exonera executivo que tr...</td>\n",
              "      <td>O secretário-executivo do Ministério do Esport...</td>\n",
              "      <td>2015-11-17</td>\n",
              "      <td>esporte</td>\n",
              "      <td>NaN</td>\n",
              "      <td>http://www1.folha.uol.com.br/esporte/2015/11/1...</td>\n",
              "    </tr>\n",
              "  </tbody>\n",
              "</table>\n",
              "</div>\n",
              "      <button class=\"colab-df-convert\" onclick=\"convertToInteractive('df-720a2879-63e8-41c0-a729-0483c1416141')\"\n",
              "              title=\"Convert this dataframe to an interactive table.\"\n",
              "              style=\"display:none;\">\n",
              "        \n",
              "  <svg xmlns=\"http://www.w3.org/2000/svg\" height=\"24px\"viewBox=\"0 0 24 24\"\n",
              "       width=\"24px\">\n",
              "    <path d=\"M0 0h24v24H0V0z\" fill=\"none\"/>\n",
              "    <path d=\"M18.56 5.44l.94 2.06.94-2.06 2.06-.94-2.06-.94-.94-2.06-.94 2.06-2.06.94zm-11 1L8.5 8.5l.94-2.06 2.06-.94-2.06-.94L8.5 2.5l-.94 2.06-2.06.94zm10 10l.94 2.06.94-2.06 2.06-.94-2.06-.94-.94-2.06-.94 2.06-2.06.94z\"/><path d=\"M17.41 7.96l-1.37-1.37c-.4-.4-.92-.59-1.43-.59-.52 0-1.04.2-1.43.59L10.3 9.45l-7.72 7.72c-.78.78-.78 2.05 0 2.83L4 21.41c.39.39.9.59 1.41.59.51 0 1.02-.2 1.41-.59l7.78-7.78 2.81-2.81c.8-.78.8-2.07 0-2.86zM5.41 20L4 18.59l7.72-7.72 1.47 1.35L5.41 20z\"/>\n",
              "  </svg>\n",
              "      </button>\n",
              "      \n",
              "  <style>\n",
              "    .colab-df-container {\n",
              "      display:flex;\n",
              "      flex-wrap:wrap;\n",
              "      gap: 12px;\n",
              "    }\n",
              "\n",
              "    .colab-df-convert {\n",
              "      background-color: #E8F0FE;\n",
              "      border: none;\n",
              "      border-radius: 50%;\n",
              "      cursor: pointer;\n",
              "      display: none;\n",
              "      fill: #1967D2;\n",
              "      height: 32px;\n",
              "      padding: 0 0 0 0;\n",
              "      width: 32px;\n",
              "    }\n",
              "\n",
              "    .colab-df-convert:hover {\n",
              "      background-color: #E2EBFA;\n",
              "      box-shadow: 0px 1px 2px rgba(60, 64, 67, 0.3), 0px 1px 3px 1px rgba(60, 64, 67, 0.15);\n",
              "      fill: #174EA6;\n",
              "    }\n",
              "\n",
              "    [theme=dark] .colab-df-convert {\n",
              "      background-color: #3B4455;\n",
              "      fill: #D2E3FC;\n",
              "    }\n",
              "\n",
              "    [theme=dark] .colab-df-convert:hover {\n",
              "      background-color: #434B5C;\n",
              "      box-shadow: 0px 1px 3px 1px rgba(0, 0, 0, 0.15);\n",
              "      filter: drop-shadow(0px 1px 2px rgba(0, 0, 0, 0.3));\n",
              "      fill: #FFFFFF;\n",
              "    }\n",
              "  </style>\n",
              "\n",
              "      <script>\n",
              "        const buttonEl =\n",
              "          document.querySelector('#df-720a2879-63e8-41c0-a729-0483c1416141 button.colab-df-convert');\n",
              "        buttonEl.style.display =\n",
              "          google.colab.kernel.accessAllowed ? 'block' : 'none';\n",
              "\n",
              "        async function convertToInteractive(key) {\n",
              "          const element = document.querySelector('#df-720a2879-63e8-41c0-a729-0483c1416141');\n",
              "          const dataTable =\n",
              "            await google.colab.kernel.invokeFunction('convertToInteractive',\n",
              "                                                     [key], {});\n",
              "          if (!dataTable) return;\n",
              "\n",
              "          const docLinkHtml = 'Like what you see? Visit the ' +\n",
              "            '<a target=\"_blank\" href=https://colab.research.google.com/notebooks/data_table.ipynb>data table notebook</a>'\n",
              "            + ' to learn more about interactive tables.';\n",
              "          element.innerHTML = '';\n",
              "          dataTable['output_type'] = 'display_data';\n",
              "          await google.colab.output.renderOutput(dataTable, element);\n",
              "          const docLink = document.createElement('div');\n",
              "          docLink.innerHTML = docLinkHtml;\n",
              "          element.appendChild(docLink);\n",
              "        }\n",
              "      </script>\n",
              "    </div>\n",
              "  </div>\n",
              "  "
            ]
          },
          "metadata": {},
          "execution_count": 2
        }
      ]
    },
    {
      "cell_type": "code",
      "source": [
        "#execute just once\n",
        "# !python -m spacy download pt_core_news_sm\n",
        "!pip install gensim==4.1.2\n",
        "!pip install spacy==3.2.0"
      ],
      "metadata": {
        "id": "cOXvU8LWKXrl",
        "colab": {
          "base_uri": "https://localhost:8080/",
          "height": 1000
        },
        "outputId": "7b0adf8b-9b65-4833-de7c-10c84c3dc755"
      },
      "execution_count": 36,
      "outputs": [
        {
          "output_type": "stream",
          "name": "stdout",
          "text": [
            "Looking in indexes: https://pypi.org/simple, https://us-python.pkg.dev/colab-wheels/public/simple/\n",
            "Collecting gensim==4.1.2\n",
            "  Downloading gensim-4.1.2-cp38-cp38-manylinux_2_12_x86_64.manylinux2010_x86_64.whl (24.1 MB)\n",
            "\u001b[2K     \u001b[90m━━━━━━━━━━━━━━━━━━━━━━━━━━━━━━━━━━━━━━━━\u001b[0m \u001b[32m24.1/24.1 MB\u001b[0m \u001b[31m28.5 MB/s\u001b[0m eta \u001b[36m0:00:00\u001b[0m\n",
            "\u001b[?25hRequirement already satisfied: scipy>=0.18.1 in /usr/local/lib/python3.8/dist-packages (from gensim==4.1.2) (1.7.3)\n",
            "Requirement already satisfied: numpy>=1.17.0 in /usr/local/lib/python3.8/dist-packages (from gensim==4.1.2) (1.21.6)\n",
            "Requirement already satisfied: smart-open>=1.8.1 in /usr/local/lib/python3.8/dist-packages (from gensim==4.1.2) (6.3.0)\n",
            "Installing collected packages: gensim\n",
            "  Attempting uninstall: gensim\n",
            "    Found existing installation: gensim 3.6.0\n",
            "    Uninstalling gensim-3.6.0:\n",
            "      Successfully uninstalled gensim-3.6.0\n",
            "Successfully installed gensim-4.1.2\n"
          ]
        },
        {
          "output_type": "display_data",
          "data": {
            "application/vnd.colab-display-data+json": {
              "pip_warning": {
                "packages": [
                  "gensim"
                ]
              }
            }
          },
          "metadata": {}
        },
        {
          "output_type": "stream",
          "name": "stdout",
          "text": [
            "Looking in indexes: https://pypi.org/simple, https://us-python.pkg.dev/colab-wheels/public/simple/\n",
            "Collecting spacy==3.2.0\n",
            "  Downloading spacy-3.2.0-cp38-cp38-manylinux_2_17_x86_64.manylinux2014_x86_64.whl (6.2 MB)\n",
            "\u001b[2K     \u001b[90m━━━━━━━━━━━━━━━━━━━━━━━━━━━━━━━━━━━━━━━━\u001b[0m \u001b[32m6.2/6.2 MB\u001b[0m \u001b[31m46.2 MB/s\u001b[0m eta \u001b[36m0:00:00\u001b[0m\n",
            "\u001b[?25hCollecting typer<0.5.0,>=0.3.0\n",
            "  Downloading typer-0.4.2-py3-none-any.whl (27 kB)\n",
            "Requirement already satisfied: pathy>=0.3.5 in /usr/local/lib/python3.8/dist-packages (from spacy==3.2.0) (0.10.1)\n",
            "Requirement already satisfied: requests<3.0.0,>=2.13.0 in /usr/local/lib/python3.8/dist-packages (from spacy==3.2.0) (2.25.1)\n",
            "Requirement already satisfied: preshed<3.1.0,>=3.0.2 in /usr/local/lib/python3.8/dist-packages (from spacy==3.2.0) (3.0.8)\n",
            "Collecting pydantic!=1.8,!=1.8.1,<1.9.0,>=1.7.4\n",
            "  Downloading pydantic-1.8.2-cp38-cp38-manylinux2014_x86_64.whl (13.7 MB)\n",
            "\u001b[2K     \u001b[90m━━━━━━━━━━━━━━━━━━━━━━━━━━━━━━━━━━━━━━━━\u001b[0m \u001b[32m13.7/13.7 MB\u001b[0m \u001b[31m76.3 MB/s\u001b[0m eta \u001b[36m0:00:00\u001b[0m\n",
            "\u001b[?25hRequirement already satisfied: spacy-legacy<3.1.0,>=3.0.8 in /usr/local/lib/python3.8/dist-packages (from spacy==3.2.0) (3.0.10)\n",
            "Requirement already satisfied: numpy>=1.15.0 in /usr/local/lib/python3.8/dist-packages (from spacy==3.2.0) (1.21.6)\n",
            "Requirement already satisfied: packaging>=20.0 in /usr/local/lib/python3.8/dist-packages (from spacy==3.2.0) (21.3)\n",
            "Requirement already satisfied: spacy-loggers<2.0.0,>=1.0.0 in /usr/local/lib/python3.8/dist-packages (from spacy==3.2.0) (1.0.4)\n",
            "Requirement already satisfied: cymem<2.1.0,>=2.0.2 in /usr/local/lib/python3.8/dist-packages (from spacy==3.2.0) (2.0.7)\n",
            "Collecting thinc<8.1.0,>=8.0.12\n",
            "  Downloading thinc-8.0.17-cp38-cp38-manylinux_2_17_x86_64.manylinux2014_x86_64.whl (671 kB)\n",
            "\u001b[2K     \u001b[90m━━━━━━━━━━━━━━━━━━━━━━━━━━━━━━━━━━━━━━\u001b[0m \u001b[32m671.1/671.1 KB\u001b[0m \u001b[31m34.7 MB/s\u001b[0m eta \u001b[36m0:00:00\u001b[0m\n",
            "\u001b[?25hRequirement already satisfied: blis<0.8.0,>=0.4.0 in /usr/local/lib/python3.8/dist-packages (from spacy==3.2.0) (0.7.9)\n",
            "Requirement already satisfied: wasabi<1.1.0,>=0.8.1 in /usr/local/lib/python3.8/dist-packages (from spacy==3.2.0) (0.10.1)\n",
            "Requirement already satisfied: tqdm<5.0.0,>=4.38.0 in /usr/local/lib/python3.8/dist-packages (from spacy==3.2.0) (4.64.1)\n",
            "Requirement already satisfied: srsly<3.0.0,>=2.4.1 in /usr/local/lib/python3.8/dist-packages (from spacy==3.2.0) (2.4.5)\n",
            "Requirement already satisfied: jinja2 in /usr/local/lib/python3.8/dist-packages (from spacy==3.2.0) (2.11.3)\n",
            "Requirement already satisfied: catalogue<2.1.0,>=2.0.6 in /usr/local/lib/python3.8/dist-packages (from spacy==3.2.0) (2.0.8)\n",
            "Requirement already satisfied: murmurhash<1.1.0,>=0.28.0 in /usr/local/lib/python3.8/dist-packages (from spacy==3.2.0) (1.0.9)\n",
            "Requirement already satisfied: setuptools in /usr/local/lib/python3.8/dist-packages (from spacy==3.2.0) (57.4.0)\n",
            "Requirement already satisfied: langcodes<4.0.0,>=3.2.0 in /usr/local/lib/python3.8/dist-packages (from spacy==3.2.0) (3.3.0)\n",
            "Requirement already satisfied: pyparsing!=3.0.5,>=2.0.2 in /usr/local/lib/python3.8/dist-packages (from packaging>=20.0->spacy==3.2.0) (3.0.9)\n",
            "Requirement already satisfied: smart-open<7.0.0,>=5.2.1 in /usr/local/lib/python3.8/dist-packages (from pathy>=0.3.5->spacy==3.2.0) (6.3.0)\n",
            "Requirement already satisfied: typing-extensions>=3.7.4.3 in /usr/local/lib/python3.8/dist-packages (from pydantic!=1.8,!=1.8.1,<1.9.0,>=1.7.4->spacy==3.2.0) (4.4.0)\n",
            "Requirement already satisfied: idna<3,>=2.5 in /usr/local/lib/python3.8/dist-packages (from requests<3.0.0,>=2.13.0->spacy==3.2.0) (2.10)\n",
            "Requirement already satisfied: certifi>=2017.4.17 in /usr/local/lib/python3.8/dist-packages (from requests<3.0.0,>=2.13.0->spacy==3.2.0) (2022.12.7)\n",
            "Requirement already satisfied: urllib3<1.27,>=1.21.1 in /usr/local/lib/python3.8/dist-packages (from requests<3.0.0,>=2.13.0->spacy==3.2.0) (1.24.3)\n",
            "Requirement already satisfied: chardet<5,>=3.0.2 in /usr/local/lib/python3.8/dist-packages (from requests<3.0.0,>=2.13.0->spacy==3.2.0) (4.0.0)\n",
            "Requirement already satisfied: click<9.0.0,>=7.1.1 in /usr/local/lib/python3.8/dist-packages (from typer<0.5.0,>=0.3.0->spacy==3.2.0) (7.1.2)\n",
            "Requirement already satisfied: MarkupSafe>=0.23 in /usr/local/lib/python3.8/dist-packages (from jinja2->spacy==3.2.0) (2.0.1)\n",
            "Installing collected packages: typer, pydantic, thinc, spacy\n",
            "  Attempting uninstall: typer\n",
            "    Found existing installation: typer 0.7.0\n",
            "    Uninstalling typer-0.7.0:\n",
            "      Successfully uninstalled typer-0.7.0\n",
            "  Attempting uninstall: pydantic\n",
            "    Found existing installation: pydantic 1.10.2\n",
            "    Uninstalling pydantic-1.10.2:\n",
            "      Successfully uninstalled pydantic-1.10.2\n",
            "  Attempting uninstall: thinc\n",
            "    Found existing installation: thinc 8.1.6\n",
            "    Uninstalling thinc-8.1.6:\n",
            "      Successfully uninstalled thinc-8.1.6\n",
            "  Attempting uninstall: spacy\n",
            "    Found existing installation: spacy 3.4.4\n",
            "    Uninstalling spacy-3.4.4:\n",
            "      Successfully uninstalled spacy-3.4.4\n",
            "\u001b[31mERROR: pip's dependency resolver does not currently take into account all the packages that are installed. This behaviour is the source of the following dependency conflicts.\n",
            "pt-core-news-sm 3.4.0 requires spacy<3.5.0,>=3.4.0, but you have spacy 3.2.0 which is incompatible.\n",
            "en-core-web-sm 3.4.1 requires spacy<3.5.0,>=3.4.0, but you have spacy 3.2.0 which is incompatible.\u001b[0m\u001b[31m\n",
            "\u001b[0mSuccessfully installed pydantic-1.8.2 spacy-3.2.0 thinc-8.0.17 typer-0.4.2\n"
          ]
        }
      ]
    },
    {
      "cell_type": "code",
      "source": [
        "nlp = spacy.load(\"pt_core_news_sm\")"
      ],
      "metadata": {
        "id": "F4IK8wdxKrVp"
      },
      "execution_count": 4,
      "outputs": []
    },
    {
      "cell_type": "code",
      "source": [
        "text = \"Rio de Janeiro é uma cidade maravilhosa\"\n",
        "doc = nlp(text)\n",
        "doc"
      ],
      "metadata": {
        "colab": {
          "base_uri": "https://localhost:8080/"
        },
        "id": "LE9TNoUWKsX6",
        "outputId": "db8db92e-f684-4b7e-e172-7c2a018690ad"
      },
      "execution_count": 5,
      "outputs": [
        {
          "output_type": "execute_result",
          "data": {
            "text/plain": [
              "Rio de Janeiro é uma cidade maravilhosa"
            ]
          },
          "metadata": {},
          "execution_count": 5
        }
      ]
    },
    {
      "cell_type": "code",
      "source": [
        "type(doc[2])"
      ],
      "metadata": {
        "colab": {
          "base_uri": "https://localhost:8080/"
        },
        "id": "3b_RwpiLKwd4",
        "outputId": "5ef08b7b-c177-439a-fc4c-3ad7ed333e8a"
      },
      "execution_count": 6,
      "outputs": [
        {
          "output_type": "execute_result",
          "data": {
            "text/plain": [
              "spacy.tokens.token.Token"
            ]
          },
          "metadata": {},
          "execution_count": 6
        }
      ]
    },
    {
      "cell_type": "code",
      "source": [
        "texts_to_treatment = (titles.lower() for titles in train_data[\"title\"])"
      ],
      "metadata": {
        "id": "_z8ZijDDVNTt"
      },
      "execution_count": 7,
      "outputs": []
    },
    {
      "cell_type": "code",
      "source": [
        "def treat_texts(doc):\n",
        "    valid_tokens = []\n",
        "    for token in doc:\n",
        "        is_valid = not token.is_stop and token.is_alpha\n",
        "        if is_valid:\n",
        "            valid_tokens.append(token.text)\n",
        "\n",
        "    if len(valid_tokens) > 2:\n",
        "        return  \" \".join(valid_tokens)\n",
        "\n",
        "text = \"Rio de Janeiro 1231231 ***** @#$ é uma cidade maravilhosa!\"\n",
        "doc = nlp(text)\n",
        "treat_texts(doc)"
      ],
      "metadata": {
        "colab": {
          "base_uri": "https://localhost:8080/",
          "height": 35
        },
        "id": "JiqGVe6kVW-p",
        "outputId": "a2555743-31e2-42aa-937e-7c25f4141bbb"
      },
      "execution_count": 8,
      "outputs": [
        {
          "output_type": "execute_result",
          "data": {
            "text/plain": [
              "'Rio Janeiro cidade maravilhosa'"
            ],
            "application/vnd.google.colaboratory.intrinsic+json": {
              "type": "string"
            }
          },
          "metadata": {},
          "execution_count": 8
        }
      ]
    },
    {
      "cell_type": "code",
      "source": [
        "text = \"Rio de Janeiro 1231231 ***** @#$ é uma cidade maravilhosa!\"\n",
        "doc = nlp(text)\n",
        "treat_texts(doc)"
      ],
      "metadata": {
        "colab": {
          "base_uri": "https://localhost:8080/",
          "height": 35
        },
        "id": "9M7Lsq-UVhyt",
        "outputId": "f49043cf-43ff-4026-ce8a-bdd1952a2ae0"
      },
      "execution_count": 9,
      "outputs": [
        {
          "output_type": "execute_result",
          "data": {
            "text/plain": [
              "'Rio Janeiro cidade maravilhosa'"
            ],
            "application/vnd.google.colaboratory.intrinsic+json": {
              "type": "string"
            }
          },
          "metadata": {},
          "execution_count": 9
        }
      ]
    },
    {
      "cell_type": "code",
      "source": [
        "from time import time\n",
        "\n",
        "t0 = time()\n",
        "treated_texts = [treat_texts(doc) for doc in nlp.pipe(texts_to_treatment,\n",
        "                                                        batch_size = 1000,\n",
        "                                                        n_process = -1)]\n",
        "tf = time() - t0\n",
        "print(tf/60)"
      ],
      "metadata": {
        "colab": {
          "base_uri": "https://localhost:8080/"
        },
        "id": "UnKZPYe1Vk3g",
        "outputId": "daab6775-1eb0-4388-bef0-fd622bd1269c"
      },
      "execution_count": 10,
      "outputs": [
        {
          "output_type": "stream",
          "name": "stdout",
          "text": [
            "3.5555718620618184\n"
          ]
        }
      ]
    },
    {
      "cell_type": "code",
      "source": [
        "treated_titles = pd.DataFrame({\"titulo\": treated_texts})\n",
        "treated_titles.head()"
      ],
      "metadata": {
        "colab": {
          "base_uri": "https://localhost:8080/",
          "height": 206
        },
        "id": "kShDfIN0Vu9h",
        "outputId": "3afebc25-a010-4b76-8a9d-2ba2c764dd7e"
      },
      "execution_count": 11,
      "outputs": [
        {
          "output_type": "execute_result",
          "data": {
            "text/plain": [
              "                                              titulo\n",
              "0  polêmica marine le pen abomina negacionistas h...\n",
              "1  macron le pen turno frança revés siglas tradic...\n",
              "2  apesar larga vitória legislativas macron terá ...\n",
              "3  governo antecipa balanço alckmin anuncia queda...\n",
              "4       queda maio atividade econômica sobe junho bc"
            ],
            "text/html": [
              "\n",
              "  <div id=\"df-c79522ec-2ad5-4835-8a52-96da802a7ace\">\n",
              "    <div class=\"colab-df-container\">\n",
              "      <div>\n",
              "<style scoped>\n",
              "    .dataframe tbody tr th:only-of-type {\n",
              "        vertical-align: middle;\n",
              "    }\n",
              "\n",
              "    .dataframe tbody tr th {\n",
              "        vertical-align: top;\n",
              "    }\n",
              "\n",
              "    .dataframe thead th {\n",
              "        text-align: right;\n",
              "    }\n",
              "</style>\n",
              "<table border=\"1\" class=\"dataframe\">\n",
              "  <thead>\n",
              "    <tr style=\"text-align: right;\">\n",
              "      <th></th>\n",
              "      <th>titulo</th>\n",
              "    </tr>\n",
              "  </thead>\n",
              "  <tbody>\n",
              "    <tr>\n",
              "      <th>0</th>\n",
              "      <td>polêmica marine le pen abomina negacionistas h...</td>\n",
              "    </tr>\n",
              "    <tr>\n",
              "      <th>1</th>\n",
              "      <td>macron le pen turno frança revés siglas tradic...</td>\n",
              "    </tr>\n",
              "    <tr>\n",
              "      <th>2</th>\n",
              "      <td>apesar larga vitória legislativas macron terá ...</td>\n",
              "    </tr>\n",
              "    <tr>\n",
              "      <th>3</th>\n",
              "      <td>governo antecipa balanço alckmin anuncia queda...</td>\n",
              "    </tr>\n",
              "    <tr>\n",
              "      <th>4</th>\n",
              "      <td>queda maio atividade econômica sobe junho bc</td>\n",
              "    </tr>\n",
              "  </tbody>\n",
              "</table>\n",
              "</div>\n",
              "      <button class=\"colab-df-convert\" onclick=\"convertToInteractive('df-c79522ec-2ad5-4835-8a52-96da802a7ace')\"\n",
              "              title=\"Convert this dataframe to an interactive table.\"\n",
              "              style=\"display:none;\">\n",
              "        \n",
              "  <svg xmlns=\"http://www.w3.org/2000/svg\" height=\"24px\"viewBox=\"0 0 24 24\"\n",
              "       width=\"24px\">\n",
              "    <path d=\"M0 0h24v24H0V0z\" fill=\"none\"/>\n",
              "    <path d=\"M18.56 5.44l.94 2.06.94-2.06 2.06-.94-2.06-.94-.94-2.06-.94 2.06-2.06.94zm-11 1L8.5 8.5l.94-2.06 2.06-.94-2.06-.94L8.5 2.5l-.94 2.06-2.06.94zm10 10l.94 2.06.94-2.06 2.06-.94-2.06-.94-.94-2.06-.94 2.06-2.06.94z\"/><path d=\"M17.41 7.96l-1.37-1.37c-.4-.4-.92-.59-1.43-.59-.52 0-1.04.2-1.43.59L10.3 9.45l-7.72 7.72c-.78.78-.78 2.05 0 2.83L4 21.41c.39.39.9.59 1.41.59.51 0 1.02-.2 1.41-.59l7.78-7.78 2.81-2.81c.8-.78.8-2.07 0-2.86zM5.41 20L4 18.59l7.72-7.72 1.47 1.35L5.41 20z\"/>\n",
              "  </svg>\n",
              "      </button>\n",
              "      \n",
              "  <style>\n",
              "    .colab-df-container {\n",
              "      display:flex;\n",
              "      flex-wrap:wrap;\n",
              "      gap: 12px;\n",
              "    }\n",
              "\n",
              "    .colab-df-convert {\n",
              "      background-color: #E8F0FE;\n",
              "      border: none;\n",
              "      border-radius: 50%;\n",
              "      cursor: pointer;\n",
              "      display: none;\n",
              "      fill: #1967D2;\n",
              "      height: 32px;\n",
              "      padding: 0 0 0 0;\n",
              "      width: 32px;\n",
              "    }\n",
              "\n",
              "    .colab-df-convert:hover {\n",
              "      background-color: #E2EBFA;\n",
              "      box-shadow: 0px 1px 2px rgba(60, 64, 67, 0.3), 0px 1px 3px 1px rgba(60, 64, 67, 0.15);\n",
              "      fill: #174EA6;\n",
              "    }\n",
              "\n",
              "    [theme=dark] .colab-df-convert {\n",
              "      background-color: #3B4455;\n",
              "      fill: #D2E3FC;\n",
              "    }\n",
              "\n",
              "    [theme=dark] .colab-df-convert:hover {\n",
              "      background-color: #434B5C;\n",
              "      box-shadow: 0px 1px 3px 1px rgba(0, 0, 0, 0.15);\n",
              "      filter: drop-shadow(0px 1px 2px rgba(0, 0, 0, 0.3));\n",
              "      fill: #FFFFFF;\n",
              "    }\n",
              "  </style>\n",
              "\n",
              "      <script>\n",
              "        const buttonEl =\n",
              "          document.querySelector('#df-c79522ec-2ad5-4835-8a52-96da802a7ace button.colab-df-convert');\n",
              "        buttonEl.style.display =\n",
              "          google.colab.kernel.accessAllowed ? 'block' : 'none';\n",
              "\n",
              "        async function convertToInteractive(key) {\n",
              "          const element = document.querySelector('#df-c79522ec-2ad5-4835-8a52-96da802a7ace');\n",
              "          const dataTable =\n",
              "            await google.colab.kernel.invokeFunction('convertToInteractive',\n",
              "                                                     [key], {});\n",
              "          if (!dataTable) return;\n",
              "\n",
              "          const docLinkHtml = 'Like what you see? Visit the ' +\n",
              "            '<a target=\"_blank\" href=https://colab.research.google.com/notebooks/data_table.ipynb>data table notebook</a>'\n",
              "            + ' to learn more about interactive tables.';\n",
              "          element.innerHTML = '';\n",
              "          dataTable['output_type'] = 'display_data';\n",
              "          await google.colab.output.renderOutput(dataTable, element);\n",
              "          const docLink = document.createElement('div');\n",
              "          docLink.innerHTML = docLinkHtml;\n",
              "          element.appendChild(docLink);\n",
              "        }\n",
              "      </script>\n",
              "    </div>\n",
              "  </div>\n",
              "  "
            ]
          },
          "metadata": {},
          "execution_count": 11
        }
      ]
    },
    {
      "cell_type": "code",
      "source": [
        "from gensim.models import Word2Vec\n",
        "\n",
        "w2v_modelo = Word2Vec(sg = 0,\n",
        "                      window = 2,\n",
        "                      size = 300,\n",
        "                      min_count = 5,\n",
        "                      alpha = 0.03,\n",
        "                      min_alpha = 0.007)"
      ],
      "metadata": {
        "id": "JK1A-gDuleb8"
      },
      "execution_count": 12,
      "outputs": []
    },
    {
      "cell_type": "code",
      "source": [
        "print(len(treated_titles))\n",
        "treated_titles = treated_titles.dropna().drop_duplicates()\n",
        "print(len(treated_titles))"
      ],
      "metadata": {
        "colab": {
          "base_uri": "https://localhost:8080/"
        },
        "id": "1BJh95N0ljT4",
        "outputId": "2fd320af-94a9-41c1-b9bf-fa3624640ea4"
      },
      "execution_count": 13,
      "outputs": [
        {
          "output_type": "stream",
          "name": "stdout",
          "text": [
            "90000\n",
            "84466\n"
          ]
        }
      ]
    },
    {
      "cell_type": "code",
      "source": [
        "list_tokens_list = [title.split(\" \") for title in treated_titles.titulo]"
      ],
      "metadata": {
        "id": "dOU73BVXlwzV"
      },
      "execution_count": 14,
      "outputs": []
    },
    {
      "cell_type": "code",
      "source": [
        "import logging\n",
        "\n",
        "logging.basicConfig(format=\"%(asctime)s : - %(message)s\", level = logging.INFO)\n",
        "\n",
        "w2v_model = Word2Vec(sg = 0,\n",
        "                      window = 2,\n",
        "                      size = 300,\n",
        "                      min_count = 5,\n",
        "                      alpha = 0.03,\n",
        "                      min_alpha = 0.007)\n",
        "\n",
        "w2v_model.build_vocab(list_tokens_list, progress_per=5000)"
      ],
      "metadata": {
        "id": "RCxtZDV0l82A"
      },
      "execution_count": 15,
      "outputs": []
    },
    {
      "cell_type": "code",
      "source": [
        "dir(w2v_model)"
      ],
      "metadata": {
        "colab": {
          "base_uri": "https://localhost:8080/"
        },
        "id": "Z8EaITxAwsRT",
        "outputId": "61dff480-f532-446f-9b1d-8db0e20f9076"
      },
      "execution_count": 16,
      "outputs": [
        {
          "output_type": "execute_result",
          "data": {
            "text/plain": [
              "['__class__',\n",
              " '__contains__',\n",
              " '__delattr__',\n",
              " '__dict__',\n",
              " '__dir__',\n",
              " '__doc__',\n",
              " '__eq__',\n",
              " '__format__',\n",
              " '__ge__',\n",
              " '__getattribute__',\n",
              " '__getitem__',\n",
              " '__gt__',\n",
              " '__hash__',\n",
              " '__init__',\n",
              " '__init_subclass__',\n",
              " '__le__',\n",
              " '__lt__',\n",
              " '__module__',\n",
              " '__ne__',\n",
              " '__new__',\n",
              " '__reduce__',\n",
              " '__reduce_ex__',\n",
              " '__repr__',\n",
              " '__setattr__',\n",
              " '__sizeof__',\n",
              " '__str__',\n",
              " '__subclasshook__',\n",
              " '__weakref__',\n",
              " '_adapt_by_suffix',\n",
              " '_check_input_data_sanity',\n",
              " '_check_training_sanity',\n",
              " '_clear_post_train',\n",
              " '_do_train_epoch',\n",
              " '_do_train_job',\n",
              " '_get_job_params',\n",
              " '_get_thread_working_mem',\n",
              " '_job_producer',\n",
              " '_load_specials',\n",
              " '_log_epoch_end',\n",
              " '_log_epoch_progress',\n",
              " '_log_progress',\n",
              " '_log_train_end',\n",
              " '_minimize_model',\n",
              " '_raw_word_count',\n",
              " '_save_specials',\n",
              " '_set_train_params',\n",
              " '_smart_save',\n",
              " '_train_epoch',\n",
              " '_train_epoch_corpusfile',\n",
              " '_update_job_params',\n",
              " '_worker_loop',\n",
              " '_worker_loop_corpusfile',\n",
              " 'accuracy',\n",
              " 'alpha',\n",
              " 'batch_words',\n",
              " 'build_vocab',\n",
              " 'build_vocab_from_freq',\n",
              " 'callbacks',\n",
              " 'cbow_mean',\n",
              " 'clear_sims',\n",
              " 'compute_loss',\n",
              " 'corpus_count',\n",
              " 'corpus_total_words',\n",
              " 'cum_table',\n",
              " 'delete_temporary_training_data',\n",
              " 'doesnt_match',\n",
              " 'epochs',\n",
              " 'estimate_memory',\n",
              " 'evaluate_word_pairs',\n",
              " 'get_latest_training_loss',\n",
              " 'hashfxn',\n",
              " 'hs',\n",
              " 'init_sims',\n",
              " 'intersect_word2vec_format',\n",
              " 'iter',\n",
              " 'layer1_size',\n",
              " 'load',\n",
              " 'load_word2vec_format',\n",
              " 'log_accuracy',\n",
              " 'max_final_vocab',\n",
              " 'min_alpha',\n",
              " 'min_alpha_yet_reached',\n",
              " 'min_count',\n",
              " 'model_trimmed_post_training',\n",
              " 'most_similar',\n",
              " 'most_similar_cosmul',\n",
              " 'n_similarity',\n",
              " 'negative',\n",
              " 'ns_exponent',\n",
              " 'predict_output_word',\n",
              " 'random',\n",
              " 'reset_from',\n",
              " 'running_training_loss',\n",
              " 'sample',\n",
              " 'save',\n",
              " 'save_word2vec_format',\n",
              " 'score',\n",
              " 'sg',\n",
              " 'similar_by_vector',\n",
              " 'similar_by_word',\n",
              " 'similarity',\n",
              " 'syn0_lockf',\n",
              " 'syn1',\n",
              " 'syn1neg',\n",
              " 'total_train_time',\n",
              " 'train',\n",
              " 'train_count',\n",
              " 'trainables',\n",
              " 'vector_size',\n",
              " 'vocabulary',\n",
              " 'window',\n",
              " 'wmdistance',\n",
              " 'workers',\n",
              " 'wv']"
            ]
          },
          "metadata": {},
          "execution_count": 16
        }
      ]
    },
    {
      "cell_type": "code",
      "source": [
        "w2v_model.corpus_count"
      ],
      "metadata": {
        "colab": {
          "base_uri": "https://localhost:8080/"
        },
        "id": "ZP5H5Jv3wvgE",
        "outputId": "41076d8c-22f3-4f0b-e915-7e2f573a7a30"
      },
      "execution_count": 17,
      "outputs": [
        {
          "output_type": "execute_result",
          "data": {
            "text/plain": [
              "84466"
            ]
          },
          "metadata": {},
          "execution_count": 17
        }
      ]
    },
    {
      "cell_type": "code",
      "source": [
        "w2v_model.train(list_tokens_list, \n",
        "                 total_examples=w2v_model.corpus_count,\n",
        "                 epochs = 30)"
      ],
      "metadata": {
        "colab": {
          "base_uri": "https://localhost:8080/"
        },
        "id": "J233lC-zwxwX",
        "outputId": "b23e33ef-1f0d-4c7a-c8d9-4c86ed9f5236"
      },
      "execution_count": 18,
      "outputs": [
        {
          "output_type": "execute_result",
          "data": {
            "text/plain": [
              "(14584049, 16207260)"
            ]
          },
          "metadata": {},
          "execution_count": 18
        }
      ]
    },
    {
      "cell_type": "code",
      "source": [
        "w2v_model.wv.most_similar(\"google\")"
      ],
      "metadata": {
        "colab": {
          "base_uri": "https://localhost:8080/"
        },
        "id": "_9Tzc2HAw3sz",
        "outputId": "4d67c0e2-e211-479c-e5ef-66c659a652da"
      },
      "execution_count": 19,
      "outputs": [
        {
          "output_type": "execute_result",
          "data": {
            "text/plain": [
              "[('apple', 0.6033927202224731),\n",
              " ('facebook', 0.5326541662216187),\n",
              " ('amazon', 0.4996454119682312),\n",
              " ('uber', 0.48260077834129333),\n",
              " ('volkswagen', 0.48259082436561584),\n",
              " ('fbi', 0.4671590328216553),\n",
              " ('yahoo', 0.45725882053375244),\n",
              " ('airbnb', 0.45679813623428345),\n",
              " ('software', 0.4548301100730896),\n",
              " ('waze', 0.4520329535007477)]"
            ]
          },
          "metadata": {},
          "execution_count": 19
        }
      ]
    },
    {
      "cell_type": "code",
      "source": [
        "w2v_model.wv.most_similar(\"microsoft\")"
      ],
      "metadata": {
        "colab": {
          "base_uri": "https://localhost:8080/"
        },
        "id": "8FADjdijw6Sh",
        "outputId": "9fccf05c-cce7-4bfc-9875-7969ea73ca5f"
      },
      "execution_count": 20,
      "outputs": [
        {
          "output_type": "execute_result",
          "data": {
            "text/plain": [
              "[('amazon', 0.6000848412513733),\n",
              " ('unilever', 0.5877584218978882),\n",
              " ('sony', 0.5572519302368164),\n",
              " ('tesla', 0.5451008081436157),\n",
              " ('viajante', 0.5314162969589233),\n",
              " ('canais', 0.5303372740745544),\n",
              " ('buffett', 0.5236181020736694),\n",
              " ('braskem', 0.5209256410598755),\n",
              " ('walmart', 0.5207629203796387),\n",
              " ('editora', 0.5138778686523438)]"
            ]
          },
          "metadata": {},
          "execution_count": 20
        }
      ]
    },
    {
      "cell_type": "code",
      "source": [
        "w2v_model.wv.most_similar(\"barcelona\")"
      ],
      "metadata": {
        "colab": {
          "base_uri": "https://localhost:8080/"
        },
        "id": "yufNjZXRxBan",
        "outputId": "464cfdbc-fe7f-4c20-cde2-cebc8c31a3a4"
      },
      "execution_count": 21,
      "outputs": [
        {
          "output_type": "execute_result",
          "data": {
            "text/plain": [
              "[('barça', 0.5767088532447815),\n",
              " ('bayern', 0.5634491443634033),\n",
              " ('chelsea', 0.5521875619888306),\n",
              " ('madrid', 0.5416667461395264),\n",
              " ('psg', 0.5367766618728638),\n",
              " ('juventus', 0.535883903503418),\n",
              " ('lazio', 0.5228630304336548),\n",
              " ('munique', 0.5227996110916138),\n",
              " ('betis', 0.5210447311401367),\n",
              " ('leicester', 0.5149264931678772)]"
            ]
          },
          "metadata": {},
          "execution_count": 21
        }
      ]
    },
    {
      "cell_type": "code",
      "source": [
        "w2v_model.wv.most_similar(\"messi\")"
      ],
      "metadata": {
        "colab": {
          "base_uri": "https://localhost:8080/"
        },
        "id": "QkWjpzSsxCmW",
        "outputId": "c4e98cdf-aa8e-49e6-92bb-75a4c24ecfc6"
      },
      "execution_count": 22,
      "outputs": [
        {
          "output_type": "execute_result",
          "data": {
            "text/plain": [
              "[('suárez', 0.6455313563346863),\n",
              " ('cristiano', 0.5675351619720459),\n",
              " ('cavani', 0.5618014931678772),\n",
              " ('tevez', 0.5187292695045471),\n",
              " ('chuteiras', 0.5067616701126099),\n",
              " ('barça', 0.5001705884933472),\n",
              " ('ronaldo', 0.4978989362716675),\n",
              " ('benzema', 0.494916170835495),\n",
              " ('enrique', 0.48295801877975464),\n",
              " ('neymar', 0.4825179874897003)]"
            ]
          },
          "metadata": {},
          "execution_count": 22
        }
      ]
    },
    {
      "cell_type": "code",
      "source": [
        "w2v_model.wv.most_similar(\"gm\")"
      ],
      "metadata": {
        "colab": {
          "base_uri": "https://localhost:8080/"
        },
        "id": "GHyvXkt3xD6h",
        "outputId": "0596d66e-9984-4c97-ba1a-711eb6e74413"
      },
      "execution_count": 23,
      "outputs": [
        {
          "output_type": "execute_result",
          "data": {
            "text/plain": [
              "[('chrysler', 0.66728675365448),\n",
              " ('embraer', 0.6644535064697266),\n",
              " ('volks', 0.6525987386703491),\n",
              " ('ab', 0.6148461103439331),\n",
              " ('honda', 0.6146793365478516),\n",
              " ('braskem', 0.6059238910675049),\n",
              " ('fiat', 0.599651038646698),\n",
              " ('inbev', 0.5954645872116089),\n",
              " ('csn', 0.5847465991973877),\n",
              " ('volkswagen', 0.5763612985610962)]"
            ]
          },
          "metadata": {},
          "execution_count": 23
        }
      ]
    },
    {
      "cell_type": "code",
      "source": [
        "#model Skip-Gram training\n",
        "w2v_model_sg = Word2Vec(sg = 1,\n",
        "                      window = 5,\n",
        "                      size = 300,\n",
        "                      min_count = 5,\n",
        "                      alpha = 0.03,\n",
        "                      min_alpha = 0.007)\n",
        "\n",
        "w2v_model_sg.build_vocab(list_tokens_list, progress_per=5000)\n",
        "\n",
        "w2v_model_sg.train(list_tokens_list, \n",
        "                 total_examples=w2v_model_sg.corpus_count,\n",
        "                 epochs = 30)"
      ],
      "metadata": {
        "colab": {
          "base_uri": "https://localhost:8080/"
        },
        "id": "ssEUQguhxXda",
        "outputId": "da46b84d-4b10-42b2-cb89-0115eafa423e"
      },
      "execution_count": 24,
      "outputs": [
        {
          "output_type": "execute_result",
          "data": {
            "text/plain": [
              "(14584214, 16207260)"
            ]
          },
          "metadata": {},
          "execution_count": 24
        }
      ]
    },
    {
      "cell_type": "code",
      "source": [
        "w2v_model_sg.wv.most_similar(\"google\")"
      ],
      "metadata": {
        "colab": {
          "base_uri": "https://localhost:8080/"
        },
        "id": "6drBAwbpxX55",
        "outputId": "5dbd127c-5669-4853-a42c-152e49639644"
      },
      "execution_count": 25,
      "outputs": [
        {
          "output_type": "execute_result",
          "data": {
            "text/plain": [
              "[('reguladores', 0.4361687898635864),\n",
              " ('android', 0.411972314119339),\n",
              " ('apple', 0.40049201250076294),\n",
              " ('waze', 0.38362807035446167),\n",
              " ('buffett', 0.3803238570690155),\n",
              " ('facebook', 0.37379688024520874),\n",
              " ('anunciantes', 0.3645574748516083),\n",
              " ('concorda', 0.35382840037345886),\n",
              " ('ericsson', 0.3523550033569336),\n",
              " ('warren', 0.35187268257141113)]"
            ]
          },
          "metadata": {},
          "execution_count": 25
        }
      ]
    },
    {
      "cell_type": "code",
      "source": [
        "w2v_model.wv.most_similar(\"google\")"
      ],
      "metadata": {
        "colab": {
          "base_uri": "https://localhost:8080/"
        },
        "id": "1GNclGt4xcRB",
        "outputId": "c566566b-1137-407c-d399-e6c6a97028d3"
      },
      "execution_count": 26,
      "outputs": [
        {
          "output_type": "execute_result",
          "data": {
            "text/plain": [
              "[('apple', 0.6033927202224731),\n",
              " ('facebook', 0.5326541662216187),\n",
              " ('amazon', 0.4996454119682312),\n",
              " ('uber', 0.48260077834129333),\n",
              " ('volkswagen', 0.48259082436561584),\n",
              " ('fbi', 0.4671590328216553),\n",
              " ('yahoo', 0.45725882053375244),\n",
              " ('airbnb', 0.45679813623428345),\n",
              " ('software', 0.4548301100730896),\n",
              " ('waze', 0.4520329535007477)]"
            ]
          },
          "metadata": {},
          "execution_count": 26
        }
      ]
    },
    {
      "cell_type": "code",
      "source": [
        "w2v_model_sg.wv.most_similar(\"gm\")"
      ],
      "metadata": {
        "colab": {
          "base_uri": "https://localhost:8080/"
        },
        "id": "lOHkxHpGxeVh",
        "outputId": "007467e8-da4e-4db3-fe03-4a57bfb531a2"
      },
      "execution_count": 27,
      "outputs": [
        {
          "output_type": "execute_result",
          "data": {
            "text/plain": [
              "[('metalúrgicos', 0.5627708435058594),\n",
              " ('honda', 0.5242899656295776),\n",
              " ('motors', 0.5242859125137329),\n",
              " ('airbag', 0.4933903217315674),\n",
              " ('audi', 0.4879566729068756),\n",
              " ('cubatão', 0.4778413772583008),\n",
              " ('toyota', 0.4762125611305237),\n",
              " ('compartilhamento', 0.4742444157600403),\n",
              " ('chrysler', 0.47214317321777344),\n",
              " ('airbags', 0.4716390371322632)]"
            ]
          },
          "metadata": {},
          "execution_count": 27
        }
      ]
    },
    {
      "cell_type": "code",
      "source": [
        "w2v_model.wv.most_similar(\"gm\")"
      ],
      "metadata": {
        "colab": {
          "base_uri": "https://localhost:8080/"
        },
        "id": "dK2TAGSRxesD",
        "outputId": "5018be5b-fc43-4943-fdff-b67952ebb1a1"
      },
      "execution_count": 28,
      "outputs": [
        {
          "output_type": "execute_result",
          "data": {
            "text/plain": [
              "[('chrysler', 0.66728675365448),\n",
              " ('embraer', 0.6644535064697266),\n",
              " ('volks', 0.6525987386703491),\n",
              " ('ab', 0.6148461103439331),\n",
              " ('honda', 0.6146793365478516),\n",
              " ('braskem', 0.6059238910675049),\n",
              " ('fiat', 0.599651038646698),\n",
              " ('inbev', 0.5954645872116089),\n",
              " ('csn', 0.5847465991973877),\n",
              " ('volkswagen', 0.5763612985610962)]"
            ]
          },
          "metadata": {},
          "execution_count": 28
        }
      ]
    },
    {
      "cell_type": "code",
      "source": [
        "w2v_model.wv.save_word2vec_format(\"/content/drive/MyDrive/dataset/word2vec/dataset/modelo_cbow.txt\", binary=False)\n",
        "w2v_model_sg.wv.save_word2vec_format(\"/content/drive/MyDrive/dataset/word2vec/dataset/modelo_skipgram.txt\", binary=False)\n",
        "train_article = pd.read_csv(\"/content/drive/MyDrive/dataset/word2vec/dataset/treino.csv\")\n",
        "test_article = pd.read_csv(\"/content/drive/MyDrive/dataset/word2vec/dataset/teste.csv\")"
      ],
      "metadata": {
        "id": "Uva5f318xgQ5"
      },
      "execution_count": 29,
      "outputs": []
    },
    {
      "cell_type": "code",
      "source": [
        "nlp = spacy.load(\"pt_core_news_sm\", disable=[\"paser\", \"ner\", \"tagger\", \"textcat\"])\n",
        "\n",
        "def tokenizer(text):\n",
        "    \n",
        "    doc = nlp(text)\n",
        "    valid_tokens = []\n",
        "    for token in doc:\n",
        "        is_valid = not token.is_stop and token.is_alpha\n",
        "        if is_valid:\n",
        "            valid_tokens.append(token.text.lower())\n",
        "\n",
        "    \n",
        "    return valid_tokens\n",
        "\n",
        "text = \"Rio de Janeiro 1231231 ***** @#$ é uma cidade maravilhosa!\"\n",
        "tokens = tokenizer(text)\n",
        "print(tokens)"
      ],
      "metadata": {
        "colab": {
          "base_uri": "https://localhost:8080/"
        },
        "id": "IQG215yQ-Efh",
        "outputId": "a99c02e3-0108-4dda-feee-9d8a1bd56234"
      },
      "execution_count": 30,
      "outputs": [
        {
          "output_type": "stream",
          "name": "stdout",
          "text": [
            "['rio', 'janeiro', 'cidade', 'maravilhosa']\n"
          ]
        }
      ]
    },
    {
      "cell_type": "code",
      "source": [
        "import numpy as np\n",
        "\n",
        "def combination_of_vectors_by_sum(words, model):\n",
        "\n",
        "    result_vector = np.zeros((1,300))\n",
        "\n",
        "    for wd in words:\n",
        "        try:\n",
        "            result_vector += model.get_vector(wd)\n",
        "\n",
        "        except KeyError:\n",
        "            pass\n",
        "                \n",
        "\n",
        "    return result_vector\n",
        "\n",
        "text_vector = combination_of_vectors_by_sum(tokens, w2v_model.wv)\n",
        "print(text_vector.shape)\n",
        "print(text_vector)"
      ],
      "metadata": {
        "colab": {
          "base_uri": "https://localhost:8080/"
        },
        "id": "dBS3kG5C-E_d",
        "outputId": "b2bf25ea-9d39-4398-fab7-bae5e2a16df6"
      },
      "execution_count": 31,
      "outputs": [
        {
          "output_type": "stream",
          "name": "stdout",
          "text": [
            "(1, 300)\n",
            "[[ 8.15644339e-01  1.53201757e+00 -1.34958699e+00 -1.45894390e+00\n",
            "  -2.38423884e+00 -2.63253778e-01 -1.28783375e+00  7.47264236e-01\n",
            "  -9.89749290e-01  1.45634094e+00 -2.55390704e-01  3.09719668e+00\n",
            "   7.82253087e-01 -1.12246765e+00  4.52415392e-01  2.51671225e-01\n",
            "   3.23454896e-01  1.71082997e+00  6.93483926e-01  4.86502849e-01\n",
            "  -1.93358514e+00  6.10149413e-01  7.05410063e-01 -3.14934924e-01\n",
            "  -1.25045599e+00 -5.00907585e-01  1.71393208e+00 -1.76490942e+00\n",
            "   5.33213623e-01  1.34279095e+00 -4.93692666e-01  6.88969493e-01\n",
            "   7.54343726e-01  1.92458704e+00  1.04163766e-01 -5.60948245e-01\n",
            "  -2.15606727e-01 -5.30744791e-02 -1.05088389e+00 -3.96766797e-01\n",
            "   3.27522933e-01  1.43321250e+00  2.36485666e+00 -8.99529010e-01\n",
            "   5.99203840e-01 -6.69930279e-01  2.70638108e-01  9.28325593e-01\n",
            "   1.18012071e+00  5.06086677e-01  9.75523993e-01 -2.69310308e+00\n",
            "   1.24242492e-01  5.58465272e-01 -2.64527798e+00  1.87150693e+00\n",
            "  -1.11551923e-01 -5.07955804e-01 -9.83447805e-01 -2.78500021e-02\n",
            "  -1.12603886e+00 -9.61705863e-01 -8.68516698e-01  9.83894065e-01\n",
            "  -6.31525949e-01 -9.84940022e-01 -1.38259190e+00  7.41743155e-01\n",
            "  -2.75065434e+00 -3.53931181e-01  3.51833582e+00 -1.32289156e+00\n",
            "  -2.88411636e-01 -6.17995560e-01  3.19433132e+00  8.52422595e-01\n",
            "  -2.16864692e+00  2.94600648e+00  2.51622128e+00  1.28838109e+00\n",
            "  -4.35326032e-01 -2.50795721e+00 -8.51416960e-01  1.78651905e+00\n",
            "  -1.41673961e+00  4.92710609e-01 -1.23250952e+00  1.17420150e+00\n",
            "  -4.40422929e-01 -1.57255453e+00 -4.94169183e-01  1.96199363e+00\n",
            "  -2.24860132e-01  4.64934133e-01 -5.69468409e-01  1.16180921e+00\n",
            "   9.04055493e-01  3.74241263e-01  4.01366651e-01  3.11232060e-01\n",
            "   3.76650184e-01 -1.45266795e+00 -6.96319278e-01 -7.20130002e-01\n",
            "   6.04904070e-01  2.22819316e+00  3.41939364e-01 -1.82171746e+00\n",
            "  -1.61664522e+00  1.13506854e-01  2.40634695e-01  1.23016438e+00\n",
            "   1.42446419e+00 -1.37084542e+00 -3.86107281e-01  1.14161196e+00\n",
            "  -2.25203285e+00 -5.07319868e-01 -2.69845188e-01  2.93180612e+00\n",
            "   9.00202423e-01 -3.21180969e-01  3.47539991e-01  8.29087524e-01\n",
            "  -5.13540804e-01  1.03462569e+00 -2.69757867e+00  1.02291454e+00\n",
            "   1.01522496e+00 -7.19317123e-01 -3.31180051e-01  6.45972550e-01\n",
            "  -2.32270941e-01 -1.31550675e+00 -2.18546948e+00 -7.84489680e-01\n",
            "  -3.45236912e-01  1.62046579e+00  1.22213061e+00 -1.15750360e+00\n",
            "   6.16723053e-01 -7.54045665e-01 -2.08368638e+00  8.01916033e-01\n",
            "  -1.42291098e+00 -7.90799189e-01 -4.69736397e-01  1.28017785e+00\n",
            "  -7.16250494e-01  6.97740365e-01 -1.00072730e+00 -2.23051041e-01\n",
            "   2.09601802e+00 -2.68604499e+00  1.37094167e+00  2.25437590e+00\n",
            "   8.59148860e-01  1.14338521e+00  3.22397515e-01 -1.52006581e+00\n",
            "   5.24875805e-01 -1.56756696e+00 -7.60405421e-01 -4.62779433e-01\n",
            "   1.27453864e+00 -1.13010907e+00  6.81690842e-01 -3.73706114e-01\n",
            "  -3.29016876e+00 -1.17545441e+00  8.30294289e-01  1.00708100e+00\n",
            "  -2.23463625e+00  1.46600774e+00  1.28355998e+00 -7.20923543e-02\n",
            "   1.19721776e+00  4.98598605e-01 -1.43870156e+00  2.93038458e+00\n",
            "  -7.69102454e-01  9.15398002e-02  1.75387675e+00 -5.80281198e-01\n",
            "  -1.88222012e-01  4.09239791e-02  1.69939208e+00  2.44770670e+00\n",
            "  -1.42669958e+00 -1.21109188e-02  3.83973993e-01  6.68086112e-02\n",
            "  -4.08991319e+00 -1.02216320e+00  1.59803277e+00  4.30613145e-01\n",
            "   4.15594268e-01 -1.62760922e+00 -2.59775221e-02  1.73816204e-01\n",
            "  -1.54230169e+00 -1.69938764e+00 -1.09223744e+00  1.11093771e+00\n",
            "   1.23272568e+00  7.57762115e-01  2.34803557e-01 -2.31514221e+00\n",
            "  -1.71783885e+00  2.79221686e-01 -6.94681942e-01 -8.54848385e-01\n",
            "  -1.40387860e+00 -6.05069801e-01  2.83093244e-01  4.22753319e-01\n",
            "  -8.57784122e-01  1.82052529e+00  1.31565815e+00 -6.51831888e-01\n",
            "   1.10543087e+00 -6.40585460e-02 -7.89644554e-01 -1.24366379e+00\n",
            "  -1.39537916e+00  2.32963544e+00 -1.43331498e+00  3.88972700e-01\n",
            "   6.02595359e-02  1.28395738e+00 -3.03189752e+00  2.51946485e+00\n",
            "  -1.58957157e+00  1.34251334e-01  2.59407401e-01  2.18630052e+00\n",
            "   7.30176151e-01 -1.62528184e+00  1.64646202e+00  3.00894280e+00\n",
            "  -6.48723468e-02  2.75655907e+00  1.67752430e-01  3.21873140e+00\n",
            "   2.30425596e-03 -1.64831199e-01  6.32372253e-01  1.07816133e+00\n",
            "   9.90662217e-01  2.23654680e-01  9.46182184e-01 -1.73724792e+00\n",
            "  -7.34270327e-02 -2.09451705e+00  6.46550655e-01  1.85496718e-01\n",
            "   2.42338954e+00 -5.86528834e-02  9.22622647e-01 -2.57389885e+00\n",
            "  -9.94824469e-02  7.55786000e-01  2.54848950e-01 -1.89971346e+00\n",
            "  -2.45325619e+00  2.01090425e-02  3.66955375e-01  2.73336980e-01\n",
            "  -3.60224113e-01 -2.84842521e-01  2.14970851e+00  2.28346351e+00\n",
            "  -1.00283685e+00  1.25864175e+00  8.81415203e-01  5.00737315e-01\n",
            "  -9.12095428e-01 -1.39008291e+00  1.51572854e+00 -8.48666877e-02\n",
            "   1.94466327e+00 -3.17264763e+00 -4.72811544e+00  1.26114833e+00\n",
            "   8.48740593e-01  2.09432319e-01  9.65613365e-01  5.47078848e-01\n",
            "  -6.04203314e-01 -7.11094461e-01  1.00469434e+00 -9.97269839e-01\n",
            "  -2.24269358e+00  8.44931930e-01  2.55788791e+00  8.37356728e-02\n",
            "   1.97850360e-01 -4.54925165e-01 -1.55544019e+00 -1.14181573e+00]]\n"
          ]
        }
      ]
    },
    {
      "cell_type": "code",
      "source": [
        "def matrix_vectors(texts, model):\n",
        "    x = len(texts)\n",
        "    y = 300\n",
        "    matrix = np.zeros((x,y))\n",
        "\n",
        "    for i in range(x):\n",
        "        words = tokenizer(texts.iloc[i])\n",
        "        matrix[i] = combination_of_vectors_by_sum(words, model)\n",
        "\n",
        "    return matrix\n",
        "\n",
        "matrix_vectors_train_cbow = matrix_vectors(train_article.title, w2v_model.wv)\n",
        "matrix_vectors_test_cbow = matrix_vectors(test_article.title, w2v_model.wv)\n",
        "print(matrix_vectors_train_cbow.shape)\n",
        "print(matrix_vectors_test_cbow.shape) "
      ],
      "metadata": {
        "colab": {
          "base_uri": "https://localhost:8080/"
        },
        "id": "U71KIT0r-NH7",
        "outputId": "3eb58e49-d7ef-4cf4-abbe-66263ff0e4f2"
      },
      "execution_count": 32,
      "outputs": [
        {
          "output_type": "stream",
          "name": "stdout",
          "text": [
            "(90000, 300)\n",
            "(20513, 300)\n"
          ]
        }
      ]
    },
    {
      "cell_type": "code",
      "source": [
        "from sklearn.linear_model import LogisticRegression\n",
        "from sklearn.metrics import classification_report\n",
        "\n",
        "def classifier(model, X_train, y_train, X_test, y_test):\n",
        "\n",
        "    RL = LogisticRegression(max_iter = 800)\n",
        "    RL.fit(X_train, y_train)\n",
        "    categories = RL.predict(X_test)\n",
        "    results = classification_report(y_test, categories)\n",
        "    print(results)\n",
        "    \n",
        "    return RL\n",
        "\n",
        "RL_cbow = classifier(w2v_model.wv,\n",
        "                        matrix_vectors_train_cbow,\n",
        "                        train_article.category,\n",
        "                        matrix_vectors_test_cbow,\n",
        "                        test_article.category)"
      ],
      "metadata": {
        "colab": {
          "base_uri": "https://localhost:8080/"
        },
        "id": "NgDEUbr2Dybv",
        "outputId": "372dda68-906f-4086-af9c-85e457baf9eb"
      },
      "execution_count": 33,
      "outputs": [
        {
          "output_type": "stream",
          "name": "stdout",
          "text": [
            "              precision    recall  f1-score   support\n",
            "\n",
            "     colunas       0.81      0.71      0.75      6103\n",
            "   cotidiano       0.63      0.80      0.70      1698\n",
            "     esporte       0.92      0.87      0.89      4663\n",
            "   ilustrada       0.13      0.83      0.22       131\n",
            "     mercado       0.83      0.78      0.81      5867\n",
            "       mundo       0.74      0.83      0.78      2051\n",
            "\n",
            "    accuracy                           0.78     20513\n",
            "   macro avg       0.68      0.80      0.69     20513\n",
            "weighted avg       0.81      0.78      0.79     20513\n",
            "\n"
          ]
        }
      ]
    },
    {
      "cell_type": "code",
      "source": [
        "matrix_vectors_train_sg = matrix_vectors(train_article.title, w2v_model_sg.wv)\n",
        "matrix_vectors_test_sg = matrix_vectors(test_article.title, w2v_model_sg.wv)\n",
        "\n",
        "RL_sg = classifier(w2v_model_sg,\n",
        "                        matrix_vectors_train_sg,\n",
        "                        train_article.category,\n",
        "                        matrix_vectors_test_sg,\n",
        "                        test_article.category)"
      ],
      "metadata": {
        "colab": {
          "base_uri": "https://localhost:8080/"
        },
        "id": "kKu_QxexD01i",
        "outputId": "acf9f7e6-fb8f-4d80-c24a-a2f1e995633d"
      },
      "execution_count": 38,
      "outputs": [
        {
          "output_type": "stream",
          "name": "stdout",
          "text": [
            "              precision    recall  f1-score   support\n",
            "\n",
            "     colunas       0.81      0.71      0.76      6103\n",
            "   cotidiano       0.63      0.80      0.71      1698\n",
            "     esporte       0.94      0.87      0.90      4663\n",
            "   ilustrada       0.14      0.87      0.24       131\n",
            "     mercado       0.84      0.79      0.82      5867\n",
            "       mundo       0.75      0.84      0.80      2051\n",
            "\n",
            "    accuracy                           0.79     20513\n",
            "   macro avg       0.69      0.81      0.70     20513\n",
            "weighted avg       0.82      0.79      0.80     20513\n",
            "\n"
          ]
        }
      ]
    },
    {
      "cell_type": "code",
      "source": [
        "import pickle\n",
        "\n",
        "with open(\"/content/drive/MyDrive/dataset/word2vec/dataset/rl_cbow.pkl\", \"wb\") as f:\n",
        "    pickle.dump(RL_cbow, f)"
      ],
      "metadata": {
        "id": "kbO4_puxD2a0"
      },
      "execution_count": 39,
      "outputs": []
    },
    {
      "cell_type": "code",
      "source": [
        "with open(\"/content/drive/MyDrive/dataset/word2vec/dataset/rl_sg.pkl\", \"wb\") as f:\n",
        "    pickle.dump(RL_sg, f)"
      ],
      "metadata": {
        "id": "NDi6vEjkD3f4"
      },
      "execution_count": 40,
      "outputs": []
    }
  ]
}