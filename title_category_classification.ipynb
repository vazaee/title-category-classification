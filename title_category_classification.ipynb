{
  "nbformat": 4,
  "nbformat_minor": 0,
  "metadata": {
    "colab": {
      "provenance": []
    },
    "kernelspec": {
      "name": "python3",
      "display_name": "Python 3"
    },
    "language_info": {
      "name": "python"
    }
  },
  "cells": [
    {
      "cell_type": "code",
      "execution_count": 1,
      "metadata": {
        "colab": {
          "base_uri": "https://localhost:8080/"
        },
        "id": "65ZF5iRPDICv",
        "outputId": "c9516105-e109-4342-8e5c-400345be018a"
      },
      "outputs": [
        {
          "output_type": "stream",
          "name": "stderr",
          "text": [
            "/usr/local/lib/python3.8/dist-packages/torch/cuda/__init__.py:497: UserWarning: Can't initialize NVML\n",
            "  warnings.warn(\"Can't initialize NVML\")\n"
          ]
        }
      ],
      "source": [
        "import pandas as pd\n",
        "import spacy"
      ]
    },
    {
      "cell_type": "code",
      "source": [
        "train_data = pd.read_csv(\"/content/drive/MyDrive/dataset/word2vec/dataset/treino.csv\")\n",
        "train_data.sample(5)"
      ],
      "metadata": {
        "colab": {
          "base_uri": "https://localhost:8080/",
          "height": 206
        },
        "id": "uJTrJAQ5KD90",
        "outputId": "8cb29736-b98e-406a-8e8a-5a314cfd7618"
      },
      "execution_count": 2,
      "outputs": [
        {
          "output_type": "execute_result",
          "data": {
            "text/plain": [
              "                                                   title  \\\n",
              "16975  Ao menos 170 torcedores são detidos em Minas a...   \n",
              "34351  Com queda da Selic, consumidor tem janela para...   \n",
              "64592                   Uau! Cunha retira FGTS na Suíça!   \n",
              "39154  Produção industrial cresce 2,3% em dezembro, m...   \n",
              "49335  \\n\\t\\tEmpty, New Metro Line to Olympic Park Is...   \n",
              "\n",
              "                                                    text        date category  \\\n",
              "16975  Ao menos 170 torcedores do Atlético-MG foram d...  2016-03-27  esporte   \n",
              "34351  O ano começou com um sinal de alívio para deve...  2017-01-16  mercado   \n",
              "64592  Buemba! Buemba! Macaco Simão Urgente! O esculh...  2017-03-15  colunas   \n",
              "39154  A indústria brasileira fechou 2016 com queda d...  2017-01-02  mercado   \n",
              "49335  ITALO NOGUEIRA FROM RIO  The new metro line th...  2016-02-08  esporte   \n",
              "\n",
              "            subcategory                                               link  \n",
              "16975               NaN  http://www1.folha.uol.com.br/esporte/2016/03/1...  \n",
              "34351               NaN  http://www1.folha.uol.com.br/mercado/2017/01/1...  \n",
              "64592         josesimao  http://www1.folha.uol.com.br/colunas/josesimao...  \n",
              "39154               NaN  http://www1.folha.uol.com.br/mercado/2017/02/1...  \n",
              "49335  olimpiada-no-rio  http://www1.folha.uol.com.br/esporte/olimpiada...  "
            ],
            "text/html": [
              "\n",
              "  <div id=\"df-7e84c8a3-97d9-41d6-8ff2-d548c07461b2\">\n",
              "    <div class=\"colab-df-container\">\n",
              "      <div>\n",
              "<style scoped>\n",
              "    .dataframe tbody tr th:only-of-type {\n",
              "        vertical-align: middle;\n",
              "    }\n",
              "\n",
              "    .dataframe tbody tr th {\n",
              "        vertical-align: top;\n",
              "    }\n",
              "\n",
              "    .dataframe thead th {\n",
              "        text-align: right;\n",
              "    }\n",
              "</style>\n",
              "<table border=\"1\" class=\"dataframe\">\n",
              "  <thead>\n",
              "    <tr style=\"text-align: right;\">\n",
              "      <th></th>\n",
              "      <th>title</th>\n",
              "      <th>text</th>\n",
              "      <th>date</th>\n",
              "      <th>category</th>\n",
              "      <th>subcategory</th>\n",
              "      <th>link</th>\n",
              "    </tr>\n",
              "  </thead>\n",
              "  <tbody>\n",
              "    <tr>\n",
              "      <th>16975</th>\n",
              "      <td>Ao menos 170 torcedores são detidos em Minas a...</td>\n",
              "      <td>Ao menos 170 torcedores do Atlético-MG foram d...</td>\n",
              "      <td>2016-03-27</td>\n",
              "      <td>esporte</td>\n",
              "      <td>NaN</td>\n",
              "      <td>http://www1.folha.uol.com.br/esporte/2016/03/1...</td>\n",
              "    </tr>\n",
              "    <tr>\n",
              "      <th>34351</th>\n",
              "      <td>Com queda da Selic, consumidor tem janela para...</td>\n",
              "      <td>O ano começou com um sinal de alívio para deve...</td>\n",
              "      <td>2017-01-16</td>\n",
              "      <td>mercado</td>\n",
              "      <td>NaN</td>\n",
              "      <td>http://www1.folha.uol.com.br/mercado/2017/01/1...</td>\n",
              "    </tr>\n",
              "    <tr>\n",
              "      <th>64592</th>\n",
              "      <td>Uau! Cunha retira FGTS na Suíça!</td>\n",
              "      <td>Buemba! Buemba! Macaco Simão Urgente! O esculh...</td>\n",
              "      <td>2017-03-15</td>\n",
              "      <td>colunas</td>\n",
              "      <td>josesimao</td>\n",
              "      <td>http://www1.folha.uol.com.br/colunas/josesimao...</td>\n",
              "    </tr>\n",
              "    <tr>\n",
              "      <th>39154</th>\n",
              "      <td>Produção industrial cresce 2,3% em dezembro, m...</td>\n",
              "      <td>A indústria brasileira fechou 2016 com queda d...</td>\n",
              "      <td>2017-01-02</td>\n",
              "      <td>mercado</td>\n",
              "      <td>NaN</td>\n",
              "      <td>http://www1.folha.uol.com.br/mercado/2017/02/1...</td>\n",
              "    </tr>\n",
              "    <tr>\n",
              "      <th>49335</th>\n",
              "      <td>\\n\\t\\tEmpty, New Metro Line to Olympic Park Is...</td>\n",
              "      <td>ITALO NOGUEIRA FROM RIO  The new metro line th...</td>\n",
              "      <td>2016-02-08</td>\n",
              "      <td>esporte</td>\n",
              "      <td>olimpiada-no-rio</td>\n",
              "      <td>http://www1.folha.uol.com.br/esporte/olimpiada...</td>\n",
              "    </tr>\n",
              "  </tbody>\n",
              "</table>\n",
              "</div>\n",
              "      <button class=\"colab-df-convert\" onclick=\"convertToInteractive('df-7e84c8a3-97d9-41d6-8ff2-d548c07461b2')\"\n",
              "              title=\"Convert this dataframe to an interactive table.\"\n",
              "              style=\"display:none;\">\n",
              "        \n",
              "  <svg xmlns=\"http://www.w3.org/2000/svg\" height=\"24px\"viewBox=\"0 0 24 24\"\n",
              "       width=\"24px\">\n",
              "    <path d=\"M0 0h24v24H0V0z\" fill=\"none\"/>\n",
              "    <path d=\"M18.56 5.44l.94 2.06.94-2.06 2.06-.94-2.06-.94-.94-2.06-.94 2.06-2.06.94zm-11 1L8.5 8.5l.94-2.06 2.06-.94-2.06-.94L8.5 2.5l-.94 2.06-2.06.94zm10 10l.94 2.06.94-2.06 2.06-.94-2.06-.94-.94-2.06-.94 2.06-2.06.94z\"/><path d=\"M17.41 7.96l-1.37-1.37c-.4-.4-.92-.59-1.43-.59-.52 0-1.04.2-1.43.59L10.3 9.45l-7.72 7.72c-.78.78-.78 2.05 0 2.83L4 21.41c.39.39.9.59 1.41.59.51 0 1.02-.2 1.41-.59l7.78-7.78 2.81-2.81c.8-.78.8-2.07 0-2.86zM5.41 20L4 18.59l7.72-7.72 1.47 1.35L5.41 20z\"/>\n",
              "  </svg>\n",
              "      </button>\n",
              "      \n",
              "  <style>\n",
              "    .colab-df-container {\n",
              "      display:flex;\n",
              "      flex-wrap:wrap;\n",
              "      gap: 12px;\n",
              "    }\n",
              "\n",
              "    .colab-df-convert {\n",
              "      background-color: #E8F0FE;\n",
              "      border: none;\n",
              "      border-radius: 50%;\n",
              "      cursor: pointer;\n",
              "      display: none;\n",
              "      fill: #1967D2;\n",
              "      height: 32px;\n",
              "      padding: 0 0 0 0;\n",
              "      width: 32px;\n",
              "    }\n",
              "\n",
              "    .colab-df-convert:hover {\n",
              "      background-color: #E2EBFA;\n",
              "      box-shadow: 0px 1px 2px rgba(60, 64, 67, 0.3), 0px 1px 3px 1px rgba(60, 64, 67, 0.15);\n",
              "      fill: #174EA6;\n",
              "    }\n",
              "\n",
              "    [theme=dark] .colab-df-convert {\n",
              "      background-color: #3B4455;\n",
              "      fill: #D2E3FC;\n",
              "    }\n",
              "\n",
              "    [theme=dark] .colab-df-convert:hover {\n",
              "      background-color: #434B5C;\n",
              "      box-shadow: 0px 1px 3px 1px rgba(0, 0, 0, 0.15);\n",
              "      filter: drop-shadow(0px 1px 2px rgba(0, 0, 0, 0.3));\n",
              "      fill: #FFFFFF;\n",
              "    }\n",
              "  </style>\n",
              "\n",
              "      <script>\n",
              "        const buttonEl =\n",
              "          document.querySelector('#df-7e84c8a3-97d9-41d6-8ff2-d548c07461b2 button.colab-df-convert');\n",
              "        buttonEl.style.display =\n",
              "          google.colab.kernel.accessAllowed ? 'block' : 'none';\n",
              "\n",
              "        async function convertToInteractive(key) {\n",
              "          const element = document.querySelector('#df-7e84c8a3-97d9-41d6-8ff2-d548c07461b2');\n",
              "          const dataTable =\n",
              "            await google.colab.kernel.invokeFunction('convertToInteractive',\n",
              "                                                     [key], {});\n",
              "          if (!dataTable) return;\n",
              "\n",
              "          const docLinkHtml = 'Like what you see? Visit the ' +\n",
              "            '<a target=\"_blank\" href=https://colab.research.google.com/notebooks/data_table.ipynb>data table notebook</a>'\n",
              "            + ' to learn more about interactive tables.';\n",
              "          element.innerHTML = '';\n",
              "          dataTable['output_type'] = 'display_data';\n",
              "          await google.colab.output.renderOutput(dataTable, element);\n",
              "          const docLink = document.createElement('div');\n",
              "          docLink.innerHTML = docLinkHtml;\n",
              "          element.appendChild(docLink);\n",
              "        }\n",
              "      </script>\n",
              "    </div>\n",
              "  </div>\n",
              "  "
            ]
          },
          "metadata": {},
          "execution_count": 2
        }
      ]
    },
    {
      "cell_type": "code",
      "source": [
        "#execute just once\n",
        "#!python -m spacy download pt_core_news_sm"
      ],
      "metadata": {
        "id": "cOXvU8LWKXrl"
      },
      "execution_count": null,
      "outputs": []
    },
    {
      "cell_type": "code",
      "source": [
        "nlp = spacy.load(\"pt_core_news_sm\")"
      ],
      "metadata": {
        "id": "F4IK8wdxKrVp"
      },
      "execution_count": 6,
      "outputs": []
    },
    {
      "cell_type": "code",
      "source": [
        "text = \"Rio de Janeiro é uma cidade maravilhosa\"\n",
        "doc = nlp(text)\n",
        "doc"
      ],
      "metadata": {
        "colab": {
          "base_uri": "https://localhost:8080/"
        },
        "id": "LE9TNoUWKsX6",
        "outputId": "3ef6ec19-a67f-465f-ebfb-d9bffa249898"
      },
      "execution_count": 7,
      "outputs": [
        {
          "output_type": "execute_result",
          "data": {
            "text/plain": [
              "Rio de Janeiro é uma cidade maravilhosa"
            ]
          },
          "metadata": {},
          "execution_count": 7
        }
      ]
    },
    {
      "cell_type": "code",
      "source": [
        "type(doc[2])"
      ],
      "metadata": {
        "colab": {
          "base_uri": "https://localhost:8080/"
        },
        "id": "3b_RwpiLKwd4",
        "outputId": "12f76669-c746-4682-b309-8872efe5cdfe"
      },
      "execution_count": 8,
      "outputs": [
        {
          "output_type": "execute_result",
          "data": {
            "text/plain": [
              "spacy.tokens.token.Token"
            ]
          },
          "metadata": {},
          "execution_count": 8
        }
      ]
    },
    {
      "cell_type": "code",
      "source": [
        "texts_to_treatment = (titles.lower() for titles in train_data[\"title\"])"
      ],
      "metadata": {
        "id": "_z8ZijDDVNTt"
      },
      "execution_count": 9,
      "outputs": []
    },
    {
      "cell_type": "code",
      "source": [
        "def treat_texts(doc):\n",
        "    valid_tokens = []\n",
        "    for token in doc:\n",
        "        is_valid = not token.is_stop and token.is_alpha\n",
        "        if is_valid:\n",
        "            valid_tokens.append(token.text)\n",
        "\n",
        "    if len(valid_tokens) > 2:\n",
        "        return  \" \".join(valid_tokens)\n",
        "\n",
        "text = \"Rio de Janeiro 1231231 ***** @#$ é uma cidade maravilhosa!\"\n",
        "doc = nlp(text)\n",
        "treat_texts(doc)"
      ],
      "metadata": {
        "colab": {
          "base_uri": "https://localhost:8080/",
          "height": 35
        },
        "id": "JiqGVe6kVW-p",
        "outputId": "9683b025-bc64-4b42-cdef-162d20154a29"
      },
      "execution_count": 10,
      "outputs": [
        {
          "output_type": "execute_result",
          "data": {
            "text/plain": [
              "'Rio Janeiro cidade maravilhosa'"
            ],
            "application/vnd.google.colaboratory.intrinsic+json": {
              "type": "string"
            }
          },
          "metadata": {},
          "execution_count": 10
        }
      ]
    },
    {
      "cell_type": "code",
      "source": [
        "text = \"Rio de Janeiro 1231231 ***** @#$ é uma cidade maravilhosa!\"\n",
        "doc = nlp(text)\n",
        "treat_texts(doc)"
      ],
      "metadata": {
        "colab": {
          "base_uri": "https://localhost:8080/",
          "height": 35
        },
        "id": "9M7Lsq-UVhyt",
        "outputId": "73be5df3-8258-46df-aefc-43e551e2f6b1"
      },
      "execution_count": 11,
      "outputs": [
        {
          "output_type": "execute_result",
          "data": {
            "text/plain": [
              "'Rio Janeiro cidade maravilhosa'"
            ],
            "application/vnd.google.colaboratory.intrinsic+json": {
              "type": "string"
            }
          },
          "metadata": {},
          "execution_count": 11
        }
      ]
    },
    {
      "cell_type": "code",
      "source": [
        "from time import time\n",
        "\n",
        "t0 = time()\n",
        "treated_texts = [treat_texts(doc) for doc in nlp.pipe(texts_to_treatment,\n",
        "                                                        batch_size = 1000,\n",
        "                                                        n_process = -1)]\n",
        "tf = time() - t0\n",
        "print(tf/60)"
      ],
      "metadata": {
        "colab": {
          "base_uri": "https://localhost:8080/"
        },
        "id": "UnKZPYe1Vk3g",
        "outputId": "cc358ea6-beff-4c8f-d75d-78e7cc524ffc"
      },
      "execution_count": 12,
      "outputs": [
        {
          "output_type": "stream",
          "name": "stdout",
          "text": [
            "2.9332737843195598\n"
          ]
        }
      ]
    },
    {
      "cell_type": "code",
      "source": [
        "treated_titles = pd.DataFrame({\"titulo\": treated_texts})\n",
        "treated_titles.head()"
      ],
      "metadata": {
        "colab": {
          "base_uri": "https://localhost:8080/",
          "height": 206
        },
        "id": "kShDfIN0Vu9h",
        "outputId": "5e9a887b-bc9e-4883-aaf9-aeb3238729aa"
      },
      "execution_count": 13,
      "outputs": [
        {
          "output_type": "execute_result",
          "data": {
            "text/plain": [
              "                                              titulo\n",
              "0  polêmica marine le pen abomina negacionistas h...\n",
              "1  macron le pen turno frança revés siglas tradic...\n",
              "2  apesar larga vitória legislativas macron terá ...\n",
              "3  governo antecipa balanço alckmin anuncia queda...\n",
              "4       queda maio atividade econômica sobe junho bc"
            ],
            "text/html": [
              "\n",
              "  <div id=\"df-063ca1c6-b180-490f-921e-ba310066c4b0\">\n",
              "    <div class=\"colab-df-container\">\n",
              "      <div>\n",
              "<style scoped>\n",
              "    .dataframe tbody tr th:only-of-type {\n",
              "        vertical-align: middle;\n",
              "    }\n",
              "\n",
              "    .dataframe tbody tr th {\n",
              "        vertical-align: top;\n",
              "    }\n",
              "\n",
              "    .dataframe thead th {\n",
              "        text-align: right;\n",
              "    }\n",
              "</style>\n",
              "<table border=\"1\" class=\"dataframe\">\n",
              "  <thead>\n",
              "    <tr style=\"text-align: right;\">\n",
              "      <th></th>\n",
              "      <th>titulo</th>\n",
              "    </tr>\n",
              "  </thead>\n",
              "  <tbody>\n",
              "    <tr>\n",
              "      <th>0</th>\n",
              "      <td>polêmica marine le pen abomina negacionistas h...</td>\n",
              "    </tr>\n",
              "    <tr>\n",
              "      <th>1</th>\n",
              "      <td>macron le pen turno frança revés siglas tradic...</td>\n",
              "    </tr>\n",
              "    <tr>\n",
              "      <th>2</th>\n",
              "      <td>apesar larga vitória legislativas macron terá ...</td>\n",
              "    </tr>\n",
              "    <tr>\n",
              "      <th>3</th>\n",
              "      <td>governo antecipa balanço alckmin anuncia queda...</td>\n",
              "    </tr>\n",
              "    <tr>\n",
              "      <th>4</th>\n",
              "      <td>queda maio atividade econômica sobe junho bc</td>\n",
              "    </tr>\n",
              "  </tbody>\n",
              "</table>\n",
              "</div>\n",
              "      <button class=\"colab-df-convert\" onclick=\"convertToInteractive('df-063ca1c6-b180-490f-921e-ba310066c4b0')\"\n",
              "              title=\"Convert this dataframe to an interactive table.\"\n",
              "              style=\"display:none;\">\n",
              "        \n",
              "  <svg xmlns=\"http://www.w3.org/2000/svg\" height=\"24px\"viewBox=\"0 0 24 24\"\n",
              "       width=\"24px\">\n",
              "    <path d=\"M0 0h24v24H0V0z\" fill=\"none\"/>\n",
              "    <path d=\"M18.56 5.44l.94 2.06.94-2.06 2.06-.94-2.06-.94-.94-2.06-.94 2.06-2.06.94zm-11 1L8.5 8.5l.94-2.06 2.06-.94-2.06-.94L8.5 2.5l-.94 2.06-2.06.94zm10 10l.94 2.06.94-2.06 2.06-.94-2.06-.94-.94-2.06-.94 2.06-2.06.94z\"/><path d=\"M17.41 7.96l-1.37-1.37c-.4-.4-.92-.59-1.43-.59-.52 0-1.04.2-1.43.59L10.3 9.45l-7.72 7.72c-.78.78-.78 2.05 0 2.83L4 21.41c.39.39.9.59 1.41.59.51 0 1.02-.2 1.41-.59l7.78-7.78 2.81-2.81c.8-.78.8-2.07 0-2.86zM5.41 20L4 18.59l7.72-7.72 1.47 1.35L5.41 20z\"/>\n",
              "  </svg>\n",
              "      </button>\n",
              "      \n",
              "  <style>\n",
              "    .colab-df-container {\n",
              "      display:flex;\n",
              "      flex-wrap:wrap;\n",
              "      gap: 12px;\n",
              "    }\n",
              "\n",
              "    .colab-df-convert {\n",
              "      background-color: #E8F0FE;\n",
              "      border: none;\n",
              "      border-radius: 50%;\n",
              "      cursor: pointer;\n",
              "      display: none;\n",
              "      fill: #1967D2;\n",
              "      height: 32px;\n",
              "      padding: 0 0 0 0;\n",
              "      width: 32px;\n",
              "    }\n",
              "\n",
              "    .colab-df-convert:hover {\n",
              "      background-color: #E2EBFA;\n",
              "      box-shadow: 0px 1px 2px rgba(60, 64, 67, 0.3), 0px 1px 3px 1px rgba(60, 64, 67, 0.15);\n",
              "      fill: #174EA6;\n",
              "    }\n",
              "\n",
              "    [theme=dark] .colab-df-convert {\n",
              "      background-color: #3B4455;\n",
              "      fill: #D2E3FC;\n",
              "    }\n",
              "\n",
              "    [theme=dark] .colab-df-convert:hover {\n",
              "      background-color: #434B5C;\n",
              "      box-shadow: 0px 1px 3px 1px rgba(0, 0, 0, 0.15);\n",
              "      filter: drop-shadow(0px 1px 2px rgba(0, 0, 0, 0.3));\n",
              "      fill: #FFFFFF;\n",
              "    }\n",
              "  </style>\n",
              "\n",
              "      <script>\n",
              "        const buttonEl =\n",
              "          document.querySelector('#df-063ca1c6-b180-490f-921e-ba310066c4b0 button.colab-df-convert');\n",
              "        buttonEl.style.display =\n",
              "          google.colab.kernel.accessAllowed ? 'block' : 'none';\n",
              "\n",
              "        async function convertToInteractive(key) {\n",
              "          const element = document.querySelector('#df-063ca1c6-b180-490f-921e-ba310066c4b0');\n",
              "          const dataTable =\n",
              "            await google.colab.kernel.invokeFunction('convertToInteractive',\n",
              "                                                     [key], {});\n",
              "          if (!dataTable) return;\n",
              "\n",
              "          const docLinkHtml = 'Like what you see? Visit the ' +\n",
              "            '<a target=\"_blank\" href=https://colab.research.google.com/notebooks/data_table.ipynb>data table notebook</a>'\n",
              "            + ' to learn more about interactive tables.';\n",
              "          element.innerHTML = '';\n",
              "          dataTable['output_type'] = 'display_data';\n",
              "          await google.colab.output.renderOutput(dataTable, element);\n",
              "          const docLink = document.createElement('div');\n",
              "          docLink.innerHTML = docLinkHtml;\n",
              "          element.appendChild(docLink);\n",
              "        }\n",
              "      </script>\n",
              "    </div>\n",
              "  </div>\n",
              "  "
            ]
          },
          "metadata": {},
          "execution_count": 13
        }
      ]
    },
    {
      "cell_type": "code",
      "source": [
        "from gensim.models import Word2Vec\n",
        "\n",
        "w2v_modelo = Word2Vec(sg = 0,\n",
        "                      window = 2,\n",
        "                      size = 300,\n",
        "                      min_count = 5,\n",
        "                      alpha = 0.03,\n",
        "                      min_alpha = 0.007)"
      ],
      "metadata": {
        "id": "JK1A-gDuleb8"
      },
      "execution_count": 14,
      "outputs": []
    },
    {
      "cell_type": "code",
      "source": [
        "print(len(treated_titles))\n",
        "treated_titles = treated_titles.dropna().drop_duplicates()\n",
        "print(len(treated_titles))"
      ],
      "metadata": {
        "colab": {
          "base_uri": "https://localhost:8080/"
        },
        "id": "1BJh95N0ljT4",
        "outputId": "8dbeed4e-d18e-40b4-c54b-a98313d96e79"
      },
      "execution_count": 15,
      "outputs": [
        {
          "output_type": "stream",
          "name": "stdout",
          "text": [
            "90000\n",
            "84466\n"
          ]
        }
      ]
    },
    {
      "cell_type": "code",
      "source": [
        "list_tokens_list = [title.split(\" \") for title in treated_titles.titulo]"
      ],
      "metadata": {
        "id": "dOU73BVXlwzV"
      },
      "execution_count": 16,
      "outputs": []
    },
    {
      "cell_type": "code",
      "source": [
        "import logging\n",
        "\n",
        "logging.basicConfig(format=\"%(asctime)s : - %(message)s\", level = logging.INFO)\n",
        "\n",
        "w2v_model = Word2Vec(sg = 0,\n",
        "                      window = 2,\n",
        "                      size = 300,\n",
        "                      min_count = 5,\n",
        "                      alpha = 0.03,\n",
        "                      min_alpha = 0.007)\n",
        "\n",
        "w2v_model.build_vocab(list_tokens_list, progress_per=5000)"
      ],
      "metadata": {
        "id": "RCxtZDV0l82A"
      },
      "execution_count": 17,
      "outputs": []
    },
    {
      "cell_type": "code",
      "source": [
        "dir(w2v_model)"
      ],
      "metadata": {
        "colab": {
          "base_uri": "https://localhost:8080/"
        },
        "id": "Z8EaITxAwsRT",
        "outputId": "3e16b6e4-68ef-475c-9c2f-394a51985f1b"
      },
      "execution_count": 18,
      "outputs": [
        {
          "output_type": "execute_result",
          "data": {
            "text/plain": [
              "['__class__',\n",
              " '__contains__',\n",
              " '__delattr__',\n",
              " '__dict__',\n",
              " '__dir__',\n",
              " '__doc__',\n",
              " '__eq__',\n",
              " '__format__',\n",
              " '__ge__',\n",
              " '__getattribute__',\n",
              " '__getitem__',\n",
              " '__gt__',\n",
              " '__hash__',\n",
              " '__init__',\n",
              " '__init_subclass__',\n",
              " '__le__',\n",
              " '__lt__',\n",
              " '__module__',\n",
              " '__ne__',\n",
              " '__new__',\n",
              " '__reduce__',\n",
              " '__reduce_ex__',\n",
              " '__repr__',\n",
              " '__setattr__',\n",
              " '__sizeof__',\n",
              " '__str__',\n",
              " '__subclasshook__',\n",
              " '__weakref__',\n",
              " '_adapt_by_suffix',\n",
              " '_check_input_data_sanity',\n",
              " '_check_training_sanity',\n",
              " '_clear_post_train',\n",
              " '_do_train_epoch',\n",
              " '_do_train_job',\n",
              " '_get_job_params',\n",
              " '_get_thread_working_mem',\n",
              " '_job_producer',\n",
              " '_load_specials',\n",
              " '_log_epoch_end',\n",
              " '_log_epoch_progress',\n",
              " '_log_progress',\n",
              " '_log_train_end',\n",
              " '_minimize_model',\n",
              " '_raw_word_count',\n",
              " '_save_specials',\n",
              " '_set_train_params',\n",
              " '_smart_save',\n",
              " '_train_epoch',\n",
              " '_train_epoch_corpusfile',\n",
              " '_update_job_params',\n",
              " '_worker_loop',\n",
              " '_worker_loop_corpusfile',\n",
              " 'accuracy',\n",
              " 'alpha',\n",
              " 'batch_words',\n",
              " 'build_vocab',\n",
              " 'build_vocab_from_freq',\n",
              " 'callbacks',\n",
              " 'cbow_mean',\n",
              " 'clear_sims',\n",
              " 'compute_loss',\n",
              " 'corpus_count',\n",
              " 'corpus_total_words',\n",
              " 'cum_table',\n",
              " 'delete_temporary_training_data',\n",
              " 'doesnt_match',\n",
              " 'epochs',\n",
              " 'estimate_memory',\n",
              " 'evaluate_word_pairs',\n",
              " 'get_latest_training_loss',\n",
              " 'hashfxn',\n",
              " 'hs',\n",
              " 'init_sims',\n",
              " 'intersect_word2vec_format',\n",
              " 'iter',\n",
              " 'layer1_size',\n",
              " 'load',\n",
              " 'load_word2vec_format',\n",
              " 'log_accuracy',\n",
              " 'max_final_vocab',\n",
              " 'min_alpha',\n",
              " 'min_alpha_yet_reached',\n",
              " 'min_count',\n",
              " 'model_trimmed_post_training',\n",
              " 'most_similar',\n",
              " 'most_similar_cosmul',\n",
              " 'n_similarity',\n",
              " 'negative',\n",
              " 'ns_exponent',\n",
              " 'predict_output_word',\n",
              " 'random',\n",
              " 'reset_from',\n",
              " 'running_training_loss',\n",
              " 'sample',\n",
              " 'save',\n",
              " 'save_word2vec_format',\n",
              " 'score',\n",
              " 'sg',\n",
              " 'similar_by_vector',\n",
              " 'similar_by_word',\n",
              " 'similarity',\n",
              " 'syn0_lockf',\n",
              " 'syn1',\n",
              " 'syn1neg',\n",
              " 'total_train_time',\n",
              " 'train',\n",
              " 'train_count',\n",
              " 'trainables',\n",
              " 'vector_size',\n",
              " 'vocabulary',\n",
              " 'window',\n",
              " 'wmdistance',\n",
              " 'workers',\n",
              " 'wv']"
            ]
          },
          "metadata": {},
          "execution_count": 18
        }
      ]
    },
    {
      "cell_type": "code",
      "source": [
        "w2v_model.corpus_count"
      ],
      "metadata": {
        "colab": {
          "base_uri": "https://localhost:8080/"
        },
        "id": "ZP5H5Jv3wvgE",
        "outputId": "063cd55e-3afe-4ef7-bfa7-821b998cbc23"
      },
      "execution_count": 19,
      "outputs": [
        {
          "output_type": "execute_result",
          "data": {
            "text/plain": [
              "84466"
            ]
          },
          "metadata": {},
          "execution_count": 19
        }
      ]
    },
    {
      "cell_type": "code",
      "source": [
        "w2v_model.train(list_tokens_list, \n",
        "                 total_examples=w2v_model.corpus_count,\n",
        "                 epochs = 30)"
      ],
      "metadata": {
        "colab": {
          "base_uri": "https://localhost:8080/"
        },
        "id": "J233lC-zwxwX",
        "outputId": "642bcd1e-3b09-4a04-de53-78790f90ba02"
      },
      "execution_count": 20,
      "outputs": [
        {
          "output_type": "execute_result",
          "data": {
            "text/plain": [
              "(14584596, 16207260)"
            ]
          },
          "metadata": {},
          "execution_count": 20
        }
      ]
    },
    {
      "cell_type": "code",
      "source": [
        "w2v_model.wv.most_similar(\"google\")"
      ],
      "metadata": {
        "colab": {
          "base_uri": "https://localhost:8080/"
        },
        "id": "_9Tzc2HAw3sz",
        "outputId": "25b6e327-7bb5-485e-c5f1-0d19d808f6d1"
      },
      "execution_count": 21,
      "outputs": [
        {
          "output_type": "execute_result",
          "data": {
            "text/plain": [
              "[('apple', 0.5938615798950195),\n",
              " ('facebook', 0.531114935874939),\n",
              " ('amazon', 0.5061439275741577),\n",
              " ('news', 0.4816396236419678),\n",
              " ('fbi', 0.4781722128391266),\n",
              " ('uber', 0.477141797542572),\n",
              " ('airbnb', 0.4767501950263977),\n",
              " ('waze', 0.47197070717811584),\n",
              " ('volkswagen', 0.46985331177711487),\n",
              " ('sony', 0.4559990167617798)]"
            ]
          },
          "metadata": {},
          "execution_count": 21
        }
      ]
    },
    {
      "cell_type": "code",
      "source": [
        "w2v_model.wv.most_similar(\"microsoft\")"
      ],
      "metadata": {
        "colab": {
          "base_uri": "https://localhost:8080/"
        },
        "id": "8FADjdijw6Sh",
        "outputId": "ee06d8f9-00df-40e8-de25-53d576f06aba"
      },
      "execution_count": 22,
      "outputs": [
        {
          "output_type": "execute_result",
          "data": {
            "text/plain": [
              "[('amazon', 0.5898116827011108),\n",
              " ('unilever', 0.5881766080856323),\n",
              " ('viajante', 0.5370166301727295),\n",
              " ('inbev', 0.5238409638404846),\n",
              " ('sony', 0.5219316482543945),\n",
              " ('tesla', 0.5216419100761414),\n",
              " ('spotify', 0.5174892544746399),\n",
              " ('walmart', 0.5171464681625366),\n",
              " ('sky', 0.5166171789169312),\n",
              " ('chrysler', 0.5073357820510864)]"
            ]
          },
          "metadata": {},
          "execution_count": 22
        }
      ]
    },
    {
      "cell_type": "code",
      "source": [
        "w2v_model.wv.most_similar(\"barcelona\")"
      ],
      "metadata": {
        "colab": {
          "base_uri": "https://localhost:8080/"
        },
        "id": "yufNjZXRxBan",
        "outputId": "252fa2d5-ea48-4597-e1d1-cc9700f8cd82"
      },
      "execution_count": 23,
      "outputs": [
        {
          "output_type": "execute_result",
          "data": {
            "text/plain": [
              "[('barça', 0.617017388343811),\n",
              " ('madrid', 0.5761963129043579),\n",
              " ('bayern', 0.5746067762374878),\n",
              " ('psg', 0.5718961358070374),\n",
              " ('munique', 0.5504690408706665),\n",
              " ('chelsea', 0.5415440797805786),\n",
              " ('atlético', 0.5382505059242249),\n",
              " ('juventus', 0.5212011933326721),\n",
              " ('coritiba', 0.5209093689918518),\n",
              " ('tottenham', 0.5154260396957397)]"
            ]
          },
          "metadata": {},
          "execution_count": 23
        }
      ]
    },
    {
      "cell_type": "code",
      "source": [
        "w2v_model.wv.most_similar(\"messi\")"
      ],
      "metadata": {
        "colab": {
          "base_uri": "https://localhost:8080/"
        },
        "id": "QkWjpzSsxCmW",
        "outputId": "77c95ad9-df28-4ddd-9eec-fc887b6678ee"
      },
      "execution_count": 24,
      "outputs": [
        {
          "output_type": "execute_result",
          "data": {
            "text/plain": [
              "[('suárez', 0.5786398649215698),\n",
              " ('cavani', 0.5278909802436829),\n",
              " ('cristiano', 0.5252474546432495),\n",
              " ('neymar', 0.5126093626022339),\n",
              " ('benzema', 0.506260871887207),\n",
              " ('barcelona', 0.49391356110572815),\n",
              " ('chuteiras', 0.493035227060318),\n",
              " ('barça', 0.49128854274749756),\n",
              " ('mordida', 0.48801228404045105),\n",
              " ('psg', 0.48611316084861755)]"
            ]
          },
          "metadata": {},
          "execution_count": 24
        }
      ]
    },
    {
      "cell_type": "code",
      "source": [
        "w2v_model.wv.most_similar(\"gm\")"
      ],
      "metadata": {
        "colab": {
          "base_uri": "https://localhost:8080/"
        },
        "id": "GHyvXkt3xD6h",
        "outputId": "bc5338bb-0847-49b4-ecf6-4af0080a13c0"
      },
      "execution_count": 25,
      "outputs": [
        {
          "output_type": "execute_result",
          "data": {
            "text/plain": [
              "[('embraer', 0.6954017877578735),\n",
              " ('volks', 0.676307201385498),\n",
              " ('chrysler', 0.6711773872375488),\n",
              " ('honda', 0.6514461040496826),\n",
              " ('braskem', 0.6290566921234131),\n",
              " ('toyota', 0.6266669034957886),\n",
              " ('tesla', 0.6099504232406616),\n",
              " ('volkswagen', 0.6091933250427246),\n",
              " ('fiat', 0.6026105880737305),\n",
              " ('renault', 0.5737369060516357)]"
            ]
          },
          "metadata": {},
          "execution_count": 25
        }
      ]
    },
    {
      "cell_type": "code",
      "source": [
        "#model Skip-Gram training\n",
        "w2v_model_sg = Word2Vec(sg = 1,\n",
        "                      window = 5,\n",
        "                      size = 300,\n",
        "                      min_count = 5,\n",
        "                      alpha = 0.03,\n",
        "                      min_alpha = 0.007)\n",
        "\n",
        "w2v_model_sg.build_vocab(list_tokens_list, progress_per=5000)\n",
        "\n",
        "w2v_model_sg.train(list_tokens_list, \n",
        "                 total_examples=w2v_model_sg.corpus_count,\n",
        "                 epochs = 30)"
      ],
      "metadata": {
        "colab": {
          "base_uri": "https://localhost:8080/"
        },
        "id": "ssEUQguhxXda",
        "outputId": "7679fa32-a7b8-4048-dc51-d5e105874ddd"
      },
      "execution_count": 26,
      "outputs": [
        {
          "output_type": "execute_result",
          "data": {
            "text/plain": [
              "(14584461, 16207260)"
            ]
          },
          "metadata": {},
          "execution_count": 26
        }
      ]
    },
    {
      "cell_type": "code",
      "source": [
        "w2v_model_sg.wv.most_similar(\"google\")"
      ],
      "metadata": {
        "colab": {
          "base_uri": "https://localhost:8080/"
        },
        "id": "6drBAwbpxX55",
        "outputId": "5e0419e2-2f4d-4ddf-cfd1-e3f0137b6fa5"
      },
      "execution_count": 27,
      "outputs": [
        {
          "output_type": "execute_result",
          "data": {
            "text/plain": [
              "[('android', 0.40671637654304504),\n",
              " ('patentes', 0.39327797293663025),\n",
              " ('buffett', 0.38503605127334595),\n",
              " ('apple', 0.373024046421051),\n",
              " ('waze', 0.3691113591194153),\n",
              " ('reguladores', 0.3677915334701538),\n",
              " ('anunciantes', 0.3650829493999481),\n",
              " ('concorda', 0.3582262396812439),\n",
              " ('facebook', 0.35227471590042114),\n",
              " ('app', 0.350563108921051)]"
            ]
          },
          "metadata": {},
          "execution_count": 27
        }
      ]
    },
    {
      "cell_type": "code",
      "source": [
        "w2v_model.wv.most_similar(\"google\")"
      ],
      "metadata": {
        "colab": {
          "base_uri": "https://localhost:8080/"
        },
        "id": "1GNclGt4xcRB",
        "outputId": "1f6bf2f8-99fd-4892-e5aa-f8fb96715209"
      },
      "execution_count": 28,
      "outputs": [
        {
          "output_type": "execute_result",
          "data": {
            "text/plain": [
              "[('apple', 0.5938615798950195),\n",
              " ('facebook', 0.531114935874939),\n",
              " ('amazon', 0.5061439275741577),\n",
              " ('news', 0.4816396236419678),\n",
              " ('fbi', 0.4781722128391266),\n",
              " ('uber', 0.477141797542572),\n",
              " ('airbnb', 0.4767501950263977),\n",
              " ('waze', 0.47197070717811584),\n",
              " ('volkswagen', 0.46985331177711487),\n",
              " ('sony', 0.4559990167617798)]"
            ]
          },
          "metadata": {},
          "execution_count": 28
        }
      ]
    },
    {
      "cell_type": "code",
      "source": [
        "w2v_model_sg.wv.most_similar(\"gm\")"
      ],
      "metadata": {
        "colab": {
          "base_uri": "https://localhost:8080/"
        },
        "id": "lOHkxHpGxeVh",
        "outputId": "57af64c1-8c1d-45fa-8fc2-a355e1264b75"
      },
      "execution_count": 29,
      "outputs": [
        {
          "output_type": "execute_result",
          "data": {
            "text/plain": [
              "[('metalúrgicos', 0.5697438716888428),\n",
              " ('motors', 0.5151419639587402),\n",
              " ('audi', 0.5023962259292603),\n",
              " ('honda', 0.4984953701496124),\n",
              " ('cubatão', 0.48548832535743713),\n",
              " ('bmw', 0.47998031973838806),\n",
              " ('chrysler', 0.4703269600868225),\n",
              " ('airbag', 0.4696553647518158),\n",
              " ('airbags', 0.46397942304611206),\n",
              " ('dupont', 0.46296611428260803)]"
            ]
          },
          "metadata": {},
          "execution_count": 29
        }
      ]
    },
    {
      "cell_type": "code",
      "source": [
        "w2v_model.wv.most_similar(\"gm\")"
      ],
      "metadata": {
        "colab": {
          "base_uri": "https://localhost:8080/"
        },
        "id": "dK2TAGSRxesD",
        "outputId": "3bf3c1db-0e43-49a0-ab1b-3e42fcab050b"
      },
      "execution_count": 30,
      "outputs": [
        {
          "output_type": "execute_result",
          "data": {
            "text/plain": [
              "[('embraer', 0.6954017877578735),\n",
              " ('volks', 0.676307201385498),\n",
              " ('chrysler', 0.6711773872375488),\n",
              " ('honda', 0.6514461040496826),\n",
              " ('braskem', 0.6290566921234131),\n",
              " ('toyota', 0.6266669034957886),\n",
              " ('tesla', 0.6099504232406616),\n",
              " ('volkswagen', 0.6091933250427246),\n",
              " ('fiat', 0.6026105880737305),\n",
              " ('renault', 0.5737369060516357)]"
            ]
          },
          "metadata": {},
          "execution_count": 30
        }
      ]
    },
    {
      "cell_type": "code",
      "source": [
        "w2v_model.wv.save_word2vec_format(\"/content/drive/MyDrive/dataset/word2vec/dataset/modelo_cbow.txt\", binary=False)\n",
        "w2v_model_sg.wv.save_word2vec_format(\"/content/drive/MyDrive/dataset/word2vec/dataset/modelo_skipgram.txt\", binary=False)\n",
        "train_article = pd.read_csv(\"/content/drive/MyDrive/dataset/word2vec/dataset/treino.csv\")\n",
        "test_article = pd.read_csv(\"/content/drive/MyDrive/dataset/word2vec/dataset/teste.csv\")"
      ],
      "metadata": {
        "id": "Uva5f318xgQ5"
      },
      "execution_count": 33,
      "outputs": []
    },
    {
      "cell_type": "code",
      "source": [
        "nlp = spacy.load(\"pt_core_news_sm\", disable=[\"paser\", \"ner\", \"tagger\", \"textcat\"])\n",
        "\n",
        "def tokenizer(text):\n",
        "    \n",
        "    doc = nlp(text)\n",
        "    valid_tokens = []\n",
        "    for token in doc:\n",
        "        is_valid = not token.is_stop and token.is_alpha\n",
        "        if is_valid:\n",
        "            valid_tokens.append(token.text.lower())\n",
        "\n",
        "    \n",
        "    return valid_tokens\n",
        "\n",
        "text = \"Rio de Janeiro 1231231 ***** @#$ é uma cidade maravilhosa!\"\n",
        "tokens = tokenizer(text)\n",
        "print(tokens)"
      ],
      "metadata": {
        "colab": {
          "base_uri": "https://localhost:8080/"
        },
        "id": "IQG215yQ-Efh",
        "outputId": "0f27d16a-a7df-480c-caba-ee6bbaa3d8c6"
      },
      "execution_count": 34,
      "outputs": [
        {
          "output_type": "stream",
          "name": "stdout",
          "text": [
            "['rio', 'janeiro', 'cidade', 'maravilhosa']\n"
          ]
        }
      ]
    },
    {
      "cell_type": "code",
      "source": [
        "import numpy as np\n",
        "\n",
        "def combination_of_vectors_by_sum(words, model):\n",
        "\n",
        "    result_vector = np.zeros((1,300))\n",
        "\n",
        "    for wd in words:\n",
        "        try:\n",
        "            result_vector += model.get_vector(wd)\n",
        "\n",
        "        except KeyError:\n",
        "            pass\n",
        "                \n",
        "\n",
        "    return result_vector\n",
        "\n",
        "text_vector = combination_of_vectors_by_sum(tokens, w2v_model.wv)\n",
        "print(text_vector.shape)\n",
        "print(text_vector)"
      ],
      "metadata": {
        "colab": {
          "base_uri": "https://localhost:8080/"
        },
        "id": "dBS3kG5C-E_d",
        "outputId": "d7bb4d8b-f83f-4f50-861f-dc5514e05d9b"
      },
      "execution_count": 37,
      "outputs": [
        {
          "output_type": "stream",
          "name": "stdout",
          "text": [
            "(1, 300)\n",
            "[[ 0.41325611 -1.44723862 -1.03914675 -0.86961566 -1.1723512   0.25786437\n",
            "   1.60502013  0.99500862 -0.31147689  0.0198146   1.25584805 -0.21678257\n",
            "  -2.15993881 -1.21405482  1.50712779 -0.03214464  0.7728097  -1.28045946\n",
            "   0.14574212 -2.19041215  3.31831983 -1.29058843 -0.35271397  0.80130688\n",
            "  -1.24308884  0.41417759 -1.44460563 -1.02658887  0.83419821  2.11004092\n",
            "  -0.13568562 -0.80210886 -2.87711585  1.96403018  0.30374343 -0.97556084\n",
            "   0.13416898  1.13175738  0.38567679 -1.0381768   1.8429294   1.76735888\n",
            "  -0.65771142 -1.24211502  3.55596954  1.42196102  1.09856462 -0.77323397\n",
            "  -1.56972072  1.99855489 -0.1281274   0.22341104 -1.77500159  0.39680309\n",
            "  -2.15866688  0.12803494 -1.00443116  0.12109391 -0.77953321  0.4446521\n",
            "  -0.49572591 -0.66148297  0.23600222  2.92412502 -1.85312681  0.13629064\n",
            "  -1.61016561  0.26852022  0.13933636  2.06354755  0.74911889 -0.66636961\n",
            "  -1.206587    0.2531739  -1.51172397 -0.4144102   0.35139532  0.48165165\n",
            "  -1.23780161 -0.13225311  1.09557018  0.6897843   0.79480014  1.08932009\n",
            "  -1.82885191  0.67009808 -2.27128136  1.24319351  0.20390411 -1.65058976\n",
            "   0.23855227  1.52592422  1.15892728 -0.09862913  1.48538338 -0.43088511\n",
            "  -0.77395909  1.91450231 -0.62148947  1.15871847 -1.69852437  0.91539844\n",
            "   3.06466925 -0.60181965 -0.39268061 -0.17672603 -3.44535434  0.61098003\n",
            "  -1.78464091  0.26537072  0.25563288  2.5199775  -1.72421344  0.44088616\n",
            "   0.47300214 -1.65502006 -1.77913398 -0.21482331  1.94460329 -0.55018151\n",
            "  -0.84675498 -0.97919977  0.39341277 -1.04655863 -2.20709375  0.47684158\n",
            "   0.88674629  0.28937332 -1.12164254  0.16167831  0.5027314   1.12018827\n",
            "  -0.45671851 -0.80419788  0.84404007  0.92237283 -0.9781716  -1.28564813\n",
            "  -0.15785998 -1.04731229 -0.62197071  0.70483751 -0.36308473 -2.35088982\n",
            "  -1.8681176  -1.58906129  0.45670416  0.33385184  0.19431116 -1.85571831\n",
            "   1.05341777  0.5476732  -1.08163872 -1.5823787   0.94807065  3.47924769\n",
            "   0.80973877 -0.23755601  1.63323289  0.58644239  2.37719789  2.59569055\n",
            "  -0.66817035  0.4153161  -1.72291963 -2.86175793  1.51843157 -0.58774607\n",
            "  -0.78736132  0.52425578 -1.64277297  0.44455547 -0.04704605 -0.86977356\n",
            "   0.31971006  0.64326525 -2.68818361  2.1413835  -0.55719082 -0.22508472\n",
            "   0.28771371 -0.82208896 -0.98342081  0.46593508  1.81759915 -1.17812459\n",
            "   1.33568318 -1.21792074 -3.8041572  -0.95287986 -1.76472343  0.05328806\n",
            "  -0.89577235 -0.60722686  3.20767868 -3.21922815 -3.15498251  1.24833172\n",
            "   2.63484973 -1.35040089  0.50643861  0.95536712 -0.17659716  0.61701322\n",
            "   3.35696083  0.50076802  1.81120551 -0.87401885  0.50266695 -0.58945936\n",
            "   1.91820106 -1.01943597  1.5427631  -0.92066444 -1.75348103  0.18436444\n",
            "  -0.76468766 -2.96114317 -0.73361205  1.47410533  1.35745876  1.34398431\n",
            "   0.77283782  1.32429444 -0.20427036  2.12043872  2.21106473  1.27394924\n",
            "   2.22059503  1.59491876 -0.62989043  0.33202904 -1.11743388  1.04102674\n",
            "  -1.43727967  0.13565047 -0.83709672  0.14929371 -1.09520283 -1.93513611\n",
            "   1.52750005  1.74142006  2.12846912  1.85192463 -0.80545235 -2.15073782\n",
            "   0.03593865 -0.38364534  2.04446954  2.13556727  1.50727402  1.52574646\n",
            "   1.37165055  1.13621737  2.43812604  0.48526533  0.3842757   1.18919876\n",
            "   2.79459894  1.32725045 -1.37320814  0.21112277 -0.2282449  -2.44137289\n",
            "  -2.03763016 -1.50699523 -0.30971849  0.25987881 -0.17685089 -0.56668536\n",
            "   1.00436884 -1.57188341  0.30122337  2.28707755 -0.35720684 -0.84908244\n",
            "  -1.66470379  1.70269117 -0.69357027 -0.37938812  0.60774122 -0.16702544\n",
            "   0.59686943  0.08024917 -0.09553572  0.99405828  1.57386298 -0.11021644\n",
            "  -0.55456871  0.53873958 -0.23784558 -0.22047068 -0.14175671 -1.84705655\n",
            "  -0.73398529 -2.01391041 -0.23134264 -1.99350789  0.33476799  1.11098751]]\n"
          ]
        }
      ]
    },
    {
      "cell_type": "code",
      "source": [
        "def matrix_vectors(texts, model):\n",
        "    x = len(texts)\n",
        "    y = 300\n",
        "    matrix = np.zeros((x,y))\n",
        "\n",
        "    for i in range(x):\n",
        "        words = tokenizer(texts.iloc[i])\n",
        "        matrix[i] = combination_of_vectors_by_sum(words, model)\n",
        "\n",
        "    return matrix\n",
        "\n",
        "matrix_vectors_train_cbow = matrix_vectors(train_article.title, w2v_model.wv)\n",
        "matrix_vectors_test_cbow = matrix_vectors(test_article.title, w2v_model.wv)\n",
        "print(matrix_vectors_train_cbow.shape)\n",
        "print(matrix_vectors_test_cbow.shape) "
      ],
      "metadata": {
        "colab": {
          "base_uri": "https://localhost:8080/"
        },
        "id": "U71KIT0r-NH7",
        "outputId": "bdd0a7ed-566a-4928-c237-02a43361f725"
      },
      "execution_count": 39,
      "outputs": [
        {
          "output_type": "stream",
          "name": "stdout",
          "text": [
            "(90000, 300)\n",
            "(20513, 300)\n"
          ]
        }
      ]
    }
  ]
}