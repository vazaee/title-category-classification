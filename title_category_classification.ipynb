{
  "nbformat": 4,
  "nbformat_minor": 0,
  "metadata": {
    "colab": {
      "provenance": []
    },
    "kernelspec": {
      "name": "python3",
      "display_name": "Python 3"
    },
    "language_info": {
      "name": "python"
    }
  },
  "cells": [
    {
      "cell_type": "code",
      "execution_count": 1,
      "metadata": {
        "colab": {
          "base_uri": "https://localhost:8080/"
        },
        "id": "65ZF5iRPDICv",
        "outputId": "63a4c31a-ded2-4822-da59-e7b26d1e863f"
      },
      "outputs": [
        {
          "output_type": "stream",
          "name": "stderr",
          "text": [
            "/usr/local/lib/python3.8/dist-packages/torch/cuda/__init__.py:497: UserWarning: Can't initialize NVML\n",
            "  warnings.warn(\"Can't initialize NVML\")\n"
          ]
        }
      ],
      "source": [
        "import pandas as pd\n",
        "import spacy"
      ]
    },
    {
      "cell_type": "code",
      "source": [
        "train_data = pd.read_csv(\"/content/drive/MyDrive/dataset/word2vec/dataset/treino.csv\")\n",
        "train_data.sample(5)"
      ],
      "metadata": {
        "colab": {
          "base_uri": "https://localhost:8080/",
          "height": 206
        },
        "id": "uJTrJAQ5KD90",
        "outputId": "9cd052ce-0b9d-429b-9f90-cc6f95a1f3c7"
      },
      "execution_count": 2,
      "outputs": [
        {
          "output_type": "execute_result",
          "data": {
            "text/plain": [
              "                                                   title  \\\n",
              "61963  Brasileiro Thiago Monteiro é vice-campeão do C...   \n",
              "48010  Bate-boca entre senadores interrompe tramitaçã...   \n",
              "34897  Filme mostra o homem Pasolini por trás da égid...   \n",
              "89973  São muitos os cenários para eventual desfecho ...   \n",
              "23410  São Paulo desiste de jogador que se declarou c...   \n",
              "\n",
              "                                                    text        date  \\\n",
              "61963  O cearense Thiago Monteiro, 22, foi derrotado ...  2016-12-06   \n",
              "48010  Senadores bateram boca e quase entraram em con...  2017-05-23   \n",
              "34897  O encontro entre Pier Paolo Pasolini e Abel Fe...  2015-06-11   \n",
              "89973  CHÂTEAU BNDES  Um conhecedor de palácios e cas...  2017-09-07   \n",
              "23410  O jogador Getterson, do J. Malucelli, nem ao m...  2016-06-22   \n",
              "\n",
              "        category  subcategory  \\\n",
              "61963    esporte          NaN   \n",
              "48010    mercado          NaN   \n",
              "34897  ilustrada          NaN   \n",
              "89973    colunas  eliogaspari   \n",
              "23410    esporte          NaN   \n",
              "\n",
              "                                                    link  \n",
              "61963  http://www1.folha.uol.com.br/esporte/2016/06/1...  \n",
              "48010  http://www1.folha.uol.com.br/mercado/2017/05/1...  \n",
              "34897  http://www1.folha.uol.com.br/ilustrada/2015/11...  \n",
              "89973  http://www1.folha.uol.com.br/colunas/eliogaspa...  \n",
              "23410  http://www1.folha.uol.com.br/esporte/2016/06/1...  "
            ],
            "text/html": [
              "\n",
              "  <div id=\"df-48914580-b607-4a5e-b638-93a161d7ba7b\">\n",
              "    <div class=\"colab-df-container\">\n",
              "      <div>\n",
              "<style scoped>\n",
              "    .dataframe tbody tr th:only-of-type {\n",
              "        vertical-align: middle;\n",
              "    }\n",
              "\n",
              "    .dataframe tbody tr th {\n",
              "        vertical-align: top;\n",
              "    }\n",
              "\n",
              "    .dataframe thead th {\n",
              "        text-align: right;\n",
              "    }\n",
              "</style>\n",
              "<table border=\"1\" class=\"dataframe\">\n",
              "  <thead>\n",
              "    <tr style=\"text-align: right;\">\n",
              "      <th></th>\n",
              "      <th>title</th>\n",
              "      <th>text</th>\n",
              "      <th>date</th>\n",
              "      <th>category</th>\n",
              "      <th>subcategory</th>\n",
              "      <th>link</th>\n",
              "    </tr>\n",
              "  </thead>\n",
              "  <tbody>\n",
              "    <tr>\n",
              "      <th>61963</th>\n",
              "      <td>Brasileiro Thiago Monteiro é vice-campeão do C...</td>\n",
              "      <td>O cearense Thiago Monteiro, 22, foi derrotado ...</td>\n",
              "      <td>2016-12-06</td>\n",
              "      <td>esporte</td>\n",
              "      <td>NaN</td>\n",
              "      <td>http://www1.folha.uol.com.br/esporte/2016/06/1...</td>\n",
              "    </tr>\n",
              "    <tr>\n",
              "      <th>48010</th>\n",
              "      <td>Bate-boca entre senadores interrompe tramitaçã...</td>\n",
              "      <td>Senadores bateram boca e quase entraram em con...</td>\n",
              "      <td>2017-05-23</td>\n",
              "      <td>mercado</td>\n",
              "      <td>NaN</td>\n",
              "      <td>http://www1.folha.uol.com.br/mercado/2017/05/1...</td>\n",
              "    </tr>\n",
              "    <tr>\n",
              "      <th>34897</th>\n",
              "      <td>Filme mostra o homem Pasolini por trás da égid...</td>\n",
              "      <td>O encontro entre Pier Paolo Pasolini e Abel Fe...</td>\n",
              "      <td>2015-06-11</td>\n",
              "      <td>ilustrada</td>\n",
              "      <td>NaN</td>\n",
              "      <td>http://www1.folha.uol.com.br/ilustrada/2015/11...</td>\n",
              "    </tr>\n",
              "    <tr>\n",
              "      <th>89973</th>\n",
              "      <td>São muitos os cenários para eventual desfecho ...</td>\n",
              "      <td>CHÂTEAU BNDES  Um conhecedor de palácios e cas...</td>\n",
              "      <td>2017-09-07</td>\n",
              "      <td>colunas</td>\n",
              "      <td>eliogaspari</td>\n",
              "      <td>http://www1.folha.uol.com.br/colunas/eliogaspa...</td>\n",
              "    </tr>\n",
              "    <tr>\n",
              "      <th>23410</th>\n",
              "      <td>São Paulo desiste de jogador que se declarou c...</td>\n",
              "      <td>O jogador Getterson, do J. Malucelli, nem ao m...</td>\n",
              "      <td>2016-06-22</td>\n",
              "      <td>esporte</td>\n",
              "      <td>NaN</td>\n",
              "      <td>http://www1.folha.uol.com.br/esporte/2016/06/1...</td>\n",
              "    </tr>\n",
              "  </tbody>\n",
              "</table>\n",
              "</div>\n",
              "      <button class=\"colab-df-convert\" onclick=\"convertToInteractive('df-48914580-b607-4a5e-b638-93a161d7ba7b')\"\n",
              "              title=\"Convert this dataframe to an interactive table.\"\n",
              "              style=\"display:none;\">\n",
              "        \n",
              "  <svg xmlns=\"http://www.w3.org/2000/svg\" height=\"24px\"viewBox=\"0 0 24 24\"\n",
              "       width=\"24px\">\n",
              "    <path d=\"M0 0h24v24H0V0z\" fill=\"none\"/>\n",
              "    <path d=\"M18.56 5.44l.94 2.06.94-2.06 2.06-.94-2.06-.94-.94-2.06-.94 2.06-2.06.94zm-11 1L8.5 8.5l.94-2.06 2.06-.94-2.06-.94L8.5 2.5l-.94 2.06-2.06.94zm10 10l.94 2.06.94-2.06 2.06-.94-2.06-.94-.94-2.06-.94 2.06-2.06.94z\"/><path d=\"M17.41 7.96l-1.37-1.37c-.4-.4-.92-.59-1.43-.59-.52 0-1.04.2-1.43.59L10.3 9.45l-7.72 7.72c-.78.78-.78 2.05 0 2.83L4 21.41c.39.39.9.59 1.41.59.51 0 1.02-.2 1.41-.59l7.78-7.78 2.81-2.81c.8-.78.8-2.07 0-2.86zM5.41 20L4 18.59l7.72-7.72 1.47 1.35L5.41 20z\"/>\n",
              "  </svg>\n",
              "      </button>\n",
              "      \n",
              "  <style>\n",
              "    .colab-df-container {\n",
              "      display:flex;\n",
              "      flex-wrap:wrap;\n",
              "      gap: 12px;\n",
              "    }\n",
              "\n",
              "    .colab-df-convert {\n",
              "      background-color: #E8F0FE;\n",
              "      border: none;\n",
              "      border-radius: 50%;\n",
              "      cursor: pointer;\n",
              "      display: none;\n",
              "      fill: #1967D2;\n",
              "      height: 32px;\n",
              "      padding: 0 0 0 0;\n",
              "      width: 32px;\n",
              "    }\n",
              "\n",
              "    .colab-df-convert:hover {\n",
              "      background-color: #E2EBFA;\n",
              "      box-shadow: 0px 1px 2px rgba(60, 64, 67, 0.3), 0px 1px 3px 1px rgba(60, 64, 67, 0.15);\n",
              "      fill: #174EA6;\n",
              "    }\n",
              "\n",
              "    [theme=dark] .colab-df-convert {\n",
              "      background-color: #3B4455;\n",
              "      fill: #D2E3FC;\n",
              "    }\n",
              "\n",
              "    [theme=dark] .colab-df-convert:hover {\n",
              "      background-color: #434B5C;\n",
              "      box-shadow: 0px 1px 3px 1px rgba(0, 0, 0, 0.15);\n",
              "      filter: drop-shadow(0px 1px 2px rgba(0, 0, 0, 0.3));\n",
              "      fill: #FFFFFF;\n",
              "    }\n",
              "  </style>\n",
              "\n",
              "      <script>\n",
              "        const buttonEl =\n",
              "          document.querySelector('#df-48914580-b607-4a5e-b638-93a161d7ba7b button.colab-df-convert');\n",
              "        buttonEl.style.display =\n",
              "          google.colab.kernel.accessAllowed ? 'block' : 'none';\n",
              "\n",
              "        async function convertToInteractive(key) {\n",
              "          const element = document.querySelector('#df-48914580-b607-4a5e-b638-93a161d7ba7b');\n",
              "          const dataTable =\n",
              "            await google.colab.kernel.invokeFunction('convertToInteractive',\n",
              "                                                     [key], {});\n",
              "          if (!dataTable) return;\n",
              "\n",
              "          const docLinkHtml = 'Like what you see? Visit the ' +\n",
              "            '<a target=\"_blank\" href=https://colab.research.google.com/notebooks/data_table.ipynb>data table notebook</a>'\n",
              "            + ' to learn more about interactive tables.';\n",
              "          element.innerHTML = '';\n",
              "          dataTable['output_type'] = 'display_data';\n",
              "          await google.colab.output.renderOutput(dataTable, element);\n",
              "          const docLink = document.createElement('div');\n",
              "          docLink.innerHTML = docLinkHtml;\n",
              "          element.appendChild(docLink);\n",
              "        }\n",
              "      </script>\n",
              "    </div>\n",
              "  </div>\n",
              "  "
            ]
          },
          "metadata": {},
          "execution_count": 2
        }
      ]
    },
    {
      "cell_type": "code",
      "source": [
        "#execute just once\n",
        "#!python -m spacy download pt_core_news_sm"
      ],
      "metadata": {
        "id": "cOXvU8LWKXrl"
      },
      "execution_count": 3,
      "outputs": []
    },
    {
      "cell_type": "code",
      "source": [
        "nlp = spacy.load(\"pt_core_news_sm\")"
      ],
      "metadata": {
        "id": "F4IK8wdxKrVp"
      },
      "execution_count": 4,
      "outputs": []
    },
    {
      "cell_type": "code",
      "source": [
        "text = \"Rio de Janeiro é uma cidade maravilhosa\"\n",
        "doc = nlp(text)\n",
        "doc"
      ],
      "metadata": {
        "colab": {
          "base_uri": "https://localhost:8080/"
        },
        "id": "LE9TNoUWKsX6",
        "outputId": "bbf41a7a-ad37-4c1d-822e-dfbe8b9c082b"
      },
      "execution_count": 5,
      "outputs": [
        {
          "output_type": "execute_result",
          "data": {
            "text/plain": [
              "Rio de Janeiro é uma cidade maravilhosa"
            ]
          },
          "metadata": {},
          "execution_count": 5
        }
      ]
    },
    {
      "cell_type": "code",
      "source": [
        "type(doc[2])"
      ],
      "metadata": {
        "colab": {
          "base_uri": "https://localhost:8080/"
        },
        "id": "3b_RwpiLKwd4",
        "outputId": "a293e061-9bae-47d7-8921-5c97ad0918a4"
      },
      "execution_count": 6,
      "outputs": [
        {
          "output_type": "execute_result",
          "data": {
            "text/plain": [
              "spacy.tokens.token.Token"
            ]
          },
          "metadata": {},
          "execution_count": 6
        }
      ]
    },
    {
      "cell_type": "code",
      "source": [
        "texts_to_treatment = (titles.lower() for titles in train_data[\"title\"])"
      ],
      "metadata": {
        "id": "_z8ZijDDVNTt"
      },
      "execution_count": 7,
      "outputs": []
    },
    {
      "cell_type": "code",
      "source": [
        "def treat_texts(doc):\n",
        "    valid_tokens = []\n",
        "    for token in doc:\n",
        "        is_valid = not token.is_stop and token.is_alpha\n",
        "        if is_valid:\n",
        "            valid_tokens.append(token.text)\n",
        "\n",
        "    if len(valid_tokens) > 2:\n",
        "        return  \" \".join(valid_tokens)\n",
        "\n",
        "text = \"Rio de Janeiro 1231231 ***** @#$ é uma cidade maravilhosa!\"\n",
        "doc = nlp(text)\n",
        "treat_texts(doc)"
      ],
      "metadata": {
        "colab": {
          "base_uri": "https://localhost:8080/",
          "height": 35
        },
        "id": "JiqGVe6kVW-p",
        "outputId": "6ee6b360-b1b0-490f-f351-8a9861dbeb96"
      },
      "execution_count": 8,
      "outputs": [
        {
          "output_type": "execute_result",
          "data": {
            "text/plain": [
              "'Rio Janeiro cidade maravilhosa'"
            ],
            "application/vnd.google.colaboratory.intrinsic+json": {
              "type": "string"
            }
          },
          "metadata": {},
          "execution_count": 8
        }
      ]
    },
    {
      "cell_type": "code",
      "source": [
        "text = \"Rio de Janeiro 1231231 ***** @#$ é uma cidade maravilhosa!\"\n",
        "doc = nlp(text)\n",
        "treat_texts(doc)"
      ],
      "metadata": {
        "colab": {
          "base_uri": "https://localhost:8080/",
          "height": 35
        },
        "id": "9M7Lsq-UVhyt",
        "outputId": "9f0b2b2a-e7a0-4c4b-90d4-7c1427d2d487"
      },
      "execution_count": 9,
      "outputs": [
        {
          "output_type": "execute_result",
          "data": {
            "text/plain": [
              "'Rio Janeiro cidade maravilhosa'"
            ],
            "application/vnd.google.colaboratory.intrinsic+json": {
              "type": "string"
            }
          },
          "metadata": {},
          "execution_count": 9
        }
      ]
    },
    {
      "cell_type": "code",
      "source": [
        "from time import time\n",
        "\n",
        "t0 = time()\n",
        "treated_texts = [treat_texts(doc) for doc in nlp.pipe(texts_to_treatment,\n",
        "                                                        batch_size = 1000,\n",
        "                                                        n_process = -1)]\n",
        "tf = time() - t0\n",
        "print(tf/60)"
      ],
      "metadata": {
        "colab": {
          "base_uri": "https://localhost:8080/"
        },
        "id": "UnKZPYe1Vk3g",
        "outputId": "f9811175-1106-48ed-b559-c48f3e2fa4e9"
      },
      "execution_count": 10,
      "outputs": [
        {
          "output_type": "stream",
          "name": "stdout",
          "text": [
            "2.7994814991950987\n"
          ]
        }
      ]
    },
    {
      "cell_type": "code",
      "source": [
        "treated_titles = pd.DataFrame({\"titulo\": treated_texts})\n",
        "treated_titles.head()"
      ],
      "metadata": {
        "colab": {
          "base_uri": "https://localhost:8080/",
          "height": 206
        },
        "id": "kShDfIN0Vu9h",
        "outputId": "7ccfc305-bca6-4192-9250-1066080dd6e4"
      },
      "execution_count": 11,
      "outputs": [
        {
          "output_type": "execute_result",
          "data": {
            "text/plain": [
              "                                              titulo\n",
              "0  polêmica marine le pen abomina negacionistas h...\n",
              "1  macron le pen turno frança revés siglas tradic...\n",
              "2  apesar larga vitória legislativas macron terá ...\n",
              "3  governo antecipa balanço alckmin anuncia queda...\n",
              "4       queda maio atividade econômica sobe junho bc"
            ],
            "text/html": [
              "\n",
              "  <div id=\"df-7d489033-a24c-451f-b30b-8682474d80ec\">\n",
              "    <div class=\"colab-df-container\">\n",
              "      <div>\n",
              "<style scoped>\n",
              "    .dataframe tbody tr th:only-of-type {\n",
              "        vertical-align: middle;\n",
              "    }\n",
              "\n",
              "    .dataframe tbody tr th {\n",
              "        vertical-align: top;\n",
              "    }\n",
              "\n",
              "    .dataframe thead th {\n",
              "        text-align: right;\n",
              "    }\n",
              "</style>\n",
              "<table border=\"1\" class=\"dataframe\">\n",
              "  <thead>\n",
              "    <tr style=\"text-align: right;\">\n",
              "      <th></th>\n",
              "      <th>titulo</th>\n",
              "    </tr>\n",
              "  </thead>\n",
              "  <tbody>\n",
              "    <tr>\n",
              "      <th>0</th>\n",
              "      <td>polêmica marine le pen abomina negacionistas h...</td>\n",
              "    </tr>\n",
              "    <tr>\n",
              "      <th>1</th>\n",
              "      <td>macron le pen turno frança revés siglas tradic...</td>\n",
              "    </tr>\n",
              "    <tr>\n",
              "      <th>2</th>\n",
              "      <td>apesar larga vitória legislativas macron terá ...</td>\n",
              "    </tr>\n",
              "    <tr>\n",
              "      <th>3</th>\n",
              "      <td>governo antecipa balanço alckmin anuncia queda...</td>\n",
              "    </tr>\n",
              "    <tr>\n",
              "      <th>4</th>\n",
              "      <td>queda maio atividade econômica sobe junho bc</td>\n",
              "    </tr>\n",
              "  </tbody>\n",
              "</table>\n",
              "</div>\n",
              "      <button class=\"colab-df-convert\" onclick=\"convertToInteractive('df-7d489033-a24c-451f-b30b-8682474d80ec')\"\n",
              "              title=\"Convert this dataframe to an interactive table.\"\n",
              "              style=\"display:none;\">\n",
              "        \n",
              "  <svg xmlns=\"http://www.w3.org/2000/svg\" height=\"24px\"viewBox=\"0 0 24 24\"\n",
              "       width=\"24px\">\n",
              "    <path d=\"M0 0h24v24H0V0z\" fill=\"none\"/>\n",
              "    <path d=\"M18.56 5.44l.94 2.06.94-2.06 2.06-.94-2.06-.94-.94-2.06-.94 2.06-2.06.94zm-11 1L8.5 8.5l.94-2.06 2.06-.94-2.06-.94L8.5 2.5l-.94 2.06-2.06.94zm10 10l.94 2.06.94-2.06 2.06-.94-2.06-.94-.94-2.06-.94 2.06-2.06.94z\"/><path d=\"M17.41 7.96l-1.37-1.37c-.4-.4-.92-.59-1.43-.59-.52 0-1.04.2-1.43.59L10.3 9.45l-7.72 7.72c-.78.78-.78 2.05 0 2.83L4 21.41c.39.39.9.59 1.41.59.51 0 1.02-.2 1.41-.59l7.78-7.78 2.81-2.81c.8-.78.8-2.07 0-2.86zM5.41 20L4 18.59l7.72-7.72 1.47 1.35L5.41 20z\"/>\n",
              "  </svg>\n",
              "      </button>\n",
              "      \n",
              "  <style>\n",
              "    .colab-df-container {\n",
              "      display:flex;\n",
              "      flex-wrap:wrap;\n",
              "      gap: 12px;\n",
              "    }\n",
              "\n",
              "    .colab-df-convert {\n",
              "      background-color: #E8F0FE;\n",
              "      border: none;\n",
              "      border-radius: 50%;\n",
              "      cursor: pointer;\n",
              "      display: none;\n",
              "      fill: #1967D2;\n",
              "      height: 32px;\n",
              "      padding: 0 0 0 0;\n",
              "      width: 32px;\n",
              "    }\n",
              "\n",
              "    .colab-df-convert:hover {\n",
              "      background-color: #E2EBFA;\n",
              "      box-shadow: 0px 1px 2px rgba(60, 64, 67, 0.3), 0px 1px 3px 1px rgba(60, 64, 67, 0.15);\n",
              "      fill: #174EA6;\n",
              "    }\n",
              "\n",
              "    [theme=dark] .colab-df-convert {\n",
              "      background-color: #3B4455;\n",
              "      fill: #D2E3FC;\n",
              "    }\n",
              "\n",
              "    [theme=dark] .colab-df-convert:hover {\n",
              "      background-color: #434B5C;\n",
              "      box-shadow: 0px 1px 3px 1px rgba(0, 0, 0, 0.15);\n",
              "      filter: drop-shadow(0px 1px 2px rgba(0, 0, 0, 0.3));\n",
              "      fill: #FFFFFF;\n",
              "    }\n",
              "  </style>\n",
              "\n",
              "      <script>\n",
              "        const buttonEl =\n",
              "          document.querySelector('#df-7d489033-a24c-451f-b30b-8682474d80ec button.colab-df-convert');\n",
              "        buttonEl.style.display =\n",
              "          google.colab.kernel.accessAllowed ? 'block' : 'none';\n",
              "\n",
              "        async function convertToInteractive(key) {\n",
              "          const element = document.querySelector('#df-7d489033-a24c-451f-b30b-8682474d80ec');\n",
              "          const dataTable =\n",
              "            await google.colab.kernel.invokeFunction('convertToInteractive',\n",
              "                                                     [key], {});\n",
              "          if (!dataTable) return;\n",
              "\n",
              "          const docLinkHtml = 'Like what you see? Visit the ' +\n",
              "            '<a target=\"_blank\" href=https://colab.research.google.com/notebooks/data_table.ipynb>data table notebook</a>'\n",
              "            + ' to learn more about interactive tables.';\n",
              "          element.innerHTML = '';\n",
              "          dataTable['output_type'] = 'display_data';\n",
              "          await google.colab.output.renderOutput(dataTable, element);\n",
              "          const docLink = document.createElement('div');\n",
              "          docLink.innerHTML = docLinkHtml;\n",
              "          element.appendChild(docLink);\n",
              "        }\n",
              "      </script>\n",
              "    </div>\n",
              "  </div>\n",
              "  "
            ]
          },
          "metadata": {},
          "execution_count": 11
        }
      ]
    },
    {
      "cell_type": "code",
      "source": [
        "from gensim.models import Word2Vec\n",
        "\n",
        "w2v_modelo = Word2Vec(sg = 0,\n",
        "                      window = 2,\n",
        "                      size = 300,\n",
        "                      min_count = 5,\n",
        "                      alpha = 0.03,\n",
        "                      min_alpha = 0.007)"
      ],
      "metadata": {
        "id": "JK1A-gDuleb8"
      },
      "execution_count": 12,
      "outputs": []
    },
    {
      "cell_type": "code",
      "source": [
        "print(len(treated_titles))\n",
        "treated_titles = treated_titles.dropna().drop_duplicates()\n",
        "print(len(treated_titles))"
      ],
      "metadata": {
        "colab": {
          "base_uri": "https://localhost:8080/"
        },
        "id": "1BJh95N0ljT4",
        "outputId": "8c54928a-57ed-40b0-93ff-1ca8e9a7e090"
      },
      "execution_count": 13,
      "outputs": [
        {
          "output_type": "stream",
          "name": "stdout",
          "text": [
            "90000\n",
            "84466\n"
          ]
        }
      ]
    },
    {
      "cell_type": "code",
      "source": [
        "list_tokens_list = [title.split(\" \") for title in treated_titles.titulo]"
      ],
      "metadata": {
        "id": "dOU73BVXlwzV"
      },
      "execution_count": 14,
      "outputs": []
    },
    {
      "cell_type": "code",
      "source": [
        "import logging\n",
        "\n",
        "logging.basicConfig(format=\"%(asctime)s : - %(message)s\", level = logging.INFO)\n",
        "\n",
        "w2v_model = Word2Vec(sg = 0,\n",
        "                      window = 2,\n",
        "                      size = 300,\n",
        "                      min_count = 5,\n",
        "                      alpha = 0.03,\n",
        "                      min_alpha = 0.007)\n",
        "\n",
        "w2v_model.build_vocab(list_tokens_list, progress_per=5000)"
      ],
      "metadata": {
        "id": "RCxtZDV0l82A"
      },
      "execution_count": 15,
      "outputs": []
    },
    {
      "cell_type": "code",
      "source": [
        "dir(w2v_model)"
      ],
      "metadata": {
        "colab": {
          "base_uri": "https://localhost:8080/"
        },
        "id": "Z8EaITxAwsRT",
        "outputId": "707100d8-6dcf-4afd-b506-d23a67e76de7"
      },
      "execution_count": 16,
      "outputs": [
        {
          "output_type": "execute_result",
          "data": {
            "text/plain": [
              "['__class__',\n",
              " '__contains__',\n",
              " '__delattr__',\n",
              " '__dict__',\n",
              " '__dir__',\n",
              " '__doc__',\n",
              " '__eq__',\n",
              " '__format__',\n",
              " '__ge__',\n",
              " '__getattribute__',\n",
              " '__getitem__',\n",
              " '__gt__',\n",
              " '__hash__',\n",
              " '__init__',\n",
              " '__init_subclass__',\n",
              " '__le__',\n",
              " '__lt__',\n",
              " '__module__',\n",
              " '__ne__',\n",
              " '__new__',\n",
              " '__reduce__',\n",
              " '__reduce_ex__',\n",
              " '__repr__',\n",
              " '__setattr__',\n",
              " '__sizeof__',\n",
              " '__str__',\n",
              " '__subclasshook__',\n",
              " '__weakref__',\n",
              " '_adapt_by_suffix',\n",
              " '_check_input_data_sanity',\n",
              " '_check_training_sanity',\n",
              " '_clear_post_train',\n",
              " '_do_train_epoch',\n",
              " '_do_train_job',\n",
              " '_get_job_params',\n",
              " '_get_thread_working_mem',\n",
              " '_job_producer',\n",
              " '_load_specials',\n",
              " '_log_epoch_end',\n",
              " '_log_epoch_progress',\n",
              " '_log_progress',\n",
              " '_log_train_end',\n",
              " '_minimize_model',\n",
              " '_raw_word_count',\n",
              " '_save_specials',\n",
              " '_set_train_params',\n",
              " '_smart_save',\n",
              " '_train_epoch',\n",
              " '_train_epoch_corpusfile',\n",
              " '_update_job_params',\n",
              " '_worker_loop',\n",
              " '_worker_loop_corpusfile',\n",
              " 'accuracy',\n",
              " 'alpha',\n",
              " 'batch_words',\n",
              " 'build_vocab',\n",
              " 'build_vocab_from_freq',\n",
              " 'callbacks',\n",
              " 'cbow_mean',\n",
              " 'clear_sims',\n",
              " 'compute_loss',\n",
              " 'corpus_count',\n",
              " 'corpus_total_words',\n",
              " 'cum_table',\n",
              " 'delete_temporary_training_data',\n",
              " 'doesnt_match',\n",
              " 'epochs',\n",
              " 'estimate_memory',\n",
              " 'evaluate_word_pairs',\n",
              " 'get_latest_training_loss',\n",
              " 'hashfxn',\n",
              " 'hs',\n",
              " 'init_sims',\n",
              " 'intersect_word2vec_format',\n",
              " 'iter',\n",
              " 'layer1_size',\n",
              " 'load',\n",
              " 'load_word2vec_format',\n",
              " 'log_accuracy',\n",
              " 'max_final_vocab',\n",
              " 'min_alpha',\n",
              " 'min_alpha_yet_reached',\n",
              " 'min_count',\n",
              " 'model_trimmed_post_training',\n",
              " 'most_similar',\n",
              " 'most_similar_cosmul',\n",
              " 'n_similarity',\n",
              " 'negative',\n",
              " 'ns_exponent',\n",
              " 'predict_output_word',\n",
              " 'random',\n",
              " 'reset_from',\n",
              " 'running_training_loss',\n",
              " 'sample',\n",
              " 'save',\n",
              " 'save_word2vec_format',\n",
              " 'score',\n",
              " 'sg',\n",
              " 'similar_by_vector',\n",
              " 'similar_by_word',\n",
              " 'similarity',\n",
              " 'syn0_lockf',\n",
              " 'syn1',\n",
              " 'syn1neg',\n",
              " 'total_train_time',\n",
              " 'train',\n",
              " 'train_count',\n",
              " 'trainables',\n",
              " 'vector_size',\n",
              " 'vocabulary',\n",
              " 'window',\n",
              " 'wmdistance',\n",
              " 'workers',\n",
              " 'wv']"
            ]
          },
          "metadata": {},
          "execution_count": 16
        }
      ]
    },
    {
      "cell_type": "code",
      "source": [
        "w2v_model.corpus_count"
      ],
      "metadata": {
        "colab": {
          "base_uri": "https://localhost:8080/"
        },
        "id": "ZP5H5Jv3wvgE",
        "outputId": "ca591032-882f-4e36-bf11-74e309c169d8"
      },
      "execution_count": 17,
      "outputs": [
        {
          "output_type": "execute_result",
          "data": {
            "text/plain": [
              "84466"
            ]
          },
          "metadata": {},
          "execution_count": 17
        }
      ]
    },
    {
      "cell_type": "code",
      "source": [
        "w2v_model.train(list_tokens_list, \n",
        "                 total_examples=w2v_model.corpus_count,\n",
        "                 epochs = 30)"
      ],
      "metadata": {
        "colab": {
          "base_uri": "https://localhost:8080/"
        },
        "id": "J233lC-zwxwX",
        "outputId": "8b39dced-2f7e-4e5b-b630-3a59ee1accee"
      },
      "execution_count": 18,
      "outputs": [
        {
          "output_type": "execute_result",
          "data": {
            "text/plain": [
              "(14584753, 16207260)"
            ]
          },
          "metadata": {},
          "execution_count": 18
        }
      ]
    },
    {
      "cell_type": "code",
      "source": [
        "w2v_model.wv.most_similar(\"google\")"
      ],
      "metadata": {
        "colab": {
          "base_uri": "https://localhost:8080/"
        },
        "id": "_9Tzc2HAw3sz",
        "outputId": "e6ca1077-1a34-434a-9b73-c3163468f0f8"
      },
      "execution_count": 19,
      "outputs": [
        {
          "output_type": "execute_result",
          "data": {
            "text/plain": [
              "[('apple', 0.5821973085403442),\n",
              " ('facebook', 0.5461843013763428),\n",
              " ('amazon', 0.5033813714981079),\n",
              " ('airbnb', 0.4901963770389557),\n",
              " ('fbi', 0.4821164011955261),\n",
              " ('yahoo', 0.4692976474761963),\n",
              " ('alibaba', 0.4662802815437317),\n",
              " ('unilever', 0.4657129645347595),\n",
              " ('software', 0.46326470375061035),\n",
              " ('uber', 0.4617651402950287)]"
            ]
          },
          "metadata": {},
          "execution_count": 19
        }
      ]
    },
    {
      "cell_type": "code",
      "source": [
        "w2v_model.wv.most_similar(\"microsoft\")"
      ],
      "metadata": {
        "colab": {
          "base_uri": "https://localhost:8080/"
        },
        "id": "8FADjdijw6Sh",
        "outputId": "0cfe1c1d-f797-4cfd-beb6-4a5040d61240"
      },
      "execution_count": 20,
      "outputs": [
        {
          "output_type": "execute_result",
          "data": {
            "text/plain": [
              "[('tesla', 0.5957540273666382),\n",
              " ('amazon', 0.5926369428634644),\n",
              " ('unilever', 0.5600866675376892),\n",
              " ('lego', 0.5420367121696472),\n",
              " ('walmart', 0.5257389545440674),\n",
              " ('viajante', 0.5246310234069824),\n",
              " ('canais', 0.524333119392395),\n",
              " ('chrysler', 0.5148504376411438),\n",
              " ('linkedin', 0.5089726448059082),\n",
              " ('braskem', 0.5071768760681152)]"
            ]
          },
          "metadata": {},
          "execution_count": 20
        }
      ]
    },
    {
      "cell_type": "code",
      "source": [
        "w2v_model.wv.most_similar(\"barcelona\")"
      ],
      "metadata": {
        "colab": {
          "base_uri": "https://localhost:8080/"
        },
        "id": "yufNjZXRxBan",
        "outputId": "6abafdbd-059e-47da-ce80-a00d44e84ecb"
      },
      "execution_count": 21,
      "outputs": [
        {
          "output_type": "execute_result",
          "data": {
            "text/plain": [
              "[('barça', 0.6008591651916504),\n",
              " ('madrid', 0.5784553289413452),\n",
              " ('chelsea', 0.5743868350982666),\n",
              " ('juventus', 0.5562494993209839),\n",
              " ('bayern', 0.5439050197601318),\n",
              " ('lazio', 0.5386303067207336),\n",
              " ('psg', 0.5381754636764526),\n",
              " ('leicester', 0.5328654646873474),\n",
              " ('munique', 0.5298463106155396),\n",
              " ('united', 0.5284828543663025)]"
            ]
          },
          "metadata": {},
          "execution_count": 21
        }
      ]
    },
    {
      "cell_type": "code",
      "source": [
        "w2v_model.wv.most_similar(\"messi\")"
      ],
      "metadata": {
        "colab": {
          "base_uri": "https://localhost:8080/"
        },
        "id": "QkWjpzSsxCmW",
        "outputId": "4937be75-4508-4c36-8b01-a31b25377267"
      },
      "execution_count": 22,
      "outputs": [
        {
          "output_type": "execute_result",
          "data": {
            "text/plain": [
              "[('suárez', 0.5805963277816772),\n",
              " ('cristiano', 0.5658708810806274),\n",
              " ('cavani', 0.5483490228652954),\n",
              " ('benzema', 0.5212342739105225),\n",
              " ('ronaldo', 0.5172131061553955),\n",
              " ('tevez', 0.5084702968597412),\n",
              " ('barça', 0.5066540241241455),\n",
              " ('neymar', 0.5000272393226624),\n",
              " ('chuteiras', 0.49200013279914856),\n",
              " ('barcelona', 0.4894178509712219)]"
            ]
          },
          "metadata": {},
          "execution_count": 22
        }
      ]
    },
    {
      "cell_type": "code",
      "source": [
        "w2v_model.wv.most_similar(\"gm\")"
      ],
      "metadata": {
        "colab": {
          "base_uri": "https://localhost:8080/"
        },
        "id": "GHyvXkt3xD6h",
        "outputId": "4948a5ba-4453-4c58-b619-d710cb564c10"
      },
      "execution_count": 23,
      "outputs": [
        {
          "output_type": "execute_result",
          "data": {
            "text/plain": [
              "[('chrysler', 0.6805555820465088),\n",
              " ('embraer', 0.6704780459403992),\n",
              " ('volks', 0.6356314420700073),\n",
              " ('braskem', 0.6339007616043091),\n",
              " ('fiat', 0.623374342918396),\n",
              " ('honda', 0.6215111017227173),\n",
              " ('tesla', 0.6074561476707458),\n",
              " ('toyota', 0.6062800884246826),\n",
              " ('csn', 0.6039988398551941),\n",
              " ('renault', 0.5838131904602051)]"
            ]
          },
          "metadata": {},
          "execution_count": 23
        }
      ]
    },
    {
      "cell_type": "code",
      "source": [
        "#model Skip-Gram training\n",
        "w2v_model_sg = Word2Vec(sg = 1,\n",
        "                      window = 5,\n",
        "                      size = 300,\n",
        "                      min_count = 5,\n",
        "                      alpha = 0.03,\n",
        "                      min_alpha = 0.007)\n",
        "\n",
        "w2v_model_sg.build_vocab(list_tokens_list, progress_per=5000)\n",
        "\n",
        "w2v_model_sg.train(list_tokens_list, \n",
        "                 total_examples=w2v_model_sg.corpus_count,\n",
        "                 epochs = 30)"
      ],
      "metadata": {
        "colab": {
          "base_uri": "https://localhost:8080/"
        },
        "id": "ssEUQguhxXda",
        "outputId": "78655b9e-8e98-40a3-b819-a801b51eebe0"
      },
      "execution_count": 24,
      "outputs": [
        {
          "output_type": "execute_result",
          "data": {
            "text/plain": [
              "(14583677, 16207260)"
            ]
          },
          "metadata": {},
          "execution_count": 24
        }
      ]
    },
    {
      "cell_type": "code",
      "source": [
        "w2v_model_sg.wv.most_similar(\"google\")"
      ],
      "metadata": {
        "colab": {
          "base_uri": "https://localhost:8080/"
        },
        "id": "6drBAwbpxX55",
        "outputId": "236d7ed1-2fc2-431c-b049-2381b0331f35"
      },
      "execution_count": 25,
      "outputs": [
        {
          "output_type": "execute_result",
          "data": {
            "text/plain": [
              "[('reguladores', 0.4313902258872986),\n",
              " ('buffett', 0.41028472781181335),\n",
              " ('android', 0.410110741853714),\n",
              " ('yahoo', 0.40221139788627625),\n",
              " ('apple', 0.39857929944992065),\n",
              " ('waze', 0.39305540919303894),\n",
              " ('patentes', 0.3902628421783447),\n",
              " ('facebook', 0.38974088430404663),\n",
              " ('app', 0.37017232179641724),\n",
              " ('concorda', 0.36158061027526855)]"
            ]
          },
          "metadata": {},
          "execution_count": 25
        }
      ]
    },
    {
      "cell_type": "code",
      "source": [
        "w2v_model.wv.most_similar(\"google\")"
      ],
      "metadata": {
        "colab": {
          "base_uri": "https://localhost:8080/"
        },
        "id": "1GNclGt4xcRB",
        "outputId": "000bbfb0-e858-4c28-c493-c016a136e724"
      },
      "execution_count": 26,
      "outputs": [
        {
          "output_type": "execute_result",
          "data": {
            "text/plain": [
              "[('apple', 0.5821973085403442),\n",
              " ('facebook', 0.5461843013763428),\n",
              " ('amazon', 0.5033813714981079),\n",
              " ('airbnb', 0.4901963770389557),\n",
              " ('fbi', 0.4821164011955261),\n",
              " ('yahoo', 0.4692976474761963),\n",
              " ('alibaba', 0.4662802815437317),\n",
              " ('unilever', 0.4657129645347595),\n",
              " ('software', 0.46326470375061035),\n",
              " ('uber', 0.4617651402950287)]"
            ]
          },
          "metadata": {},
          "execution_count": 26
        }
      ]
    },
    {
      "cell_type": "code",
      "source": [
        "w2v_model_sg.wv.most_similar(\"gm\")"
      ],
      "metadata": {
        "colab": {
          "base_uri": "https://localhost:8080/"
        },
        "id": "lOHkxHpGxeVh",
        "outputId": "e2ed9057-6475-4400-fbb6-c2b657408334"
      },
      "execution_count": 27,
      "outputs": [
        {
          "output_type": "execute_result",
          "data": {
            "text/plain": [
              "[('metalúrgicos', 0.5778361558914185),\n",
              " ('motors', 0.5573704838752747),\n",
              " ('honda', 0.5174570679664612),\n",
              " ('audi', 0.5006668567657471),\n",
              " ('fiat', 0.4873671233654022),\n",
              " ('airbag', 0.4816415309906006),\n",
              " ('chrysler', 0.4815548360347748),\n",
              " ('airbags', 0.4788525402545929),\n",
              " ('montadora', 0.47723719477653503),\n",
              " ('autoguiados', 0.47298765182495117)]"
            ]
          },
          "metadata": {},
          "execution_count": 27
        }
      ]
    },
    {
      "cell_type": "code",
      "source": [
        "w2v_model.wv.most_similar(\"gm\")"
      ],
      "metadata": {
        "colab": {
          "base_uri": "https://localhost:8080/"
        },
        "id": "dK2TAGSRxesD",
        "outputId": "d3ff4e8f-64f5-4bdf-cb70-428046f5a10a"
      },
      "execution_count": 28,
      "outputs": [
        {
          "output_type": "execute_result",
          "data": {
            "text/plain": [
              "[('chrysler', 0.6805555820465088),\n",
              " ('embraer', 0.6704780459403992),\n",
              " ('volks', 0.6356314420700073),\n",
              " ('braskem', 0.6339007616043091),\n",
              " ('fiat', 0.623374342918396),\n",
              " ('honda', 0.6215111017227173),\n",
              " ('tesla', 0.6074561476707458),\n",
              " ('toyota', 0.6062800884246826),\n",
              " ('csn', 0.6039988398551941),\n",
              " ('renault', 0.5838131904602051)]"
            ]
          },
          "metadata": {},
          "execution_count": 28
        }
      ]
    },
    {
      "cell_type": "code",
      "source": [
        "w2v_model.wv.save_word2vec_format(\"/content/drive/MyDrive/dataset/word2vec/dataset/modelo_cbow.txt\", binary=False)\n",
        "w2v_model_sg.wv.save_word2vec_format(\"/content/drive/MyDrive/dataset/word2vec/dataset/modelo_skipgram.txt\", binary=False)"
      ],
      "metadata": {
        "id": "Uva5f318xgQ5"
      },
      "execution_count": 29,
      "outputs": []
    }
  ]
}